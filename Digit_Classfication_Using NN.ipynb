{
  "nbformat": 4,
  "nbformat_minor": 0,
  "metadata": {
    "colab": {
      "provenance": []
    },
    "kernelspec": {
      "name": "python3",
      "display_name": "Python 3"
    },
    "language_info": {
      "name": "python"
    }
  },
  "cells": [
    {
      "cell_type": "markdown",
      "source": [
        "**MNIST Handwritten Digit Clasification using Deep Learning (Neural Network)**"
      ],
      "metadata": {
        "id": "as-6Wcqwg9s_"
      }
    },
    {
      "cell_type": "markdown",
      "source": [
        "Importing the Dependencies"
      ],
      "metadata": {
        "id": "usJiEcc5jqcT"
      }
    },
    {
      "cell_type": "code",
      "execution_count": 15,
      "metadata": {
        "id": "Nh_KITKrquBI"
      },
      "outputs": [],
      "source": [
        "import numpy as np\n",
        "import matplotlib.pyplot as plt\n",
        "import seaborn as sns\n",
        "import cv2\n",
        "from google.colab.patches import cv2_imshow\n",
        "from PIL import Image\n",
        "import tensorflow as tf\n",
        "tf.random.set_seed(3)\n",
        "from tensorflow import keras\n",
        "from keras.datasets import mnist\n",
        "from tensorflow.math import confusion_matrix"
      ]
    },
    {
      "cell_type": "markdown",
      "source": [
        "Loading the MNIST data from keras.datasets"
      ],
      "metadata": {
        "id": "Ea6YoasclFmE"
      }
    },
    {
      "cell_type": "code",
      "source": [
        "(X_train, Y_train), (X_test, Y_test) =  mnist.load_data()"
      ],
      "metadata": {
        "id": "pl_q6L7bk-JE"
      },
      "execution_count": 16,
      "outputs": []
    },
    {
      "cell_type": "code",
      "source": [
        "type(X_train)"
      ],
      "metadata": {
        "colab": {
          "base_uri": "https://localhost:8080/"
        },
        "id": "mTi9DEKtmAgU",
        "outputId": "042b56d3-59bb-47ef-8119-acb76cb492ea"
      },
      "execution_count": 17,
      "outputs": [
        {
          "output_type": "execute_result",
          "data": {
            "text/plain": [
              "numpy.ndarray"
            ]
          },
          "metadata": {},
          "execution_count": 17
        }
      ]
    },
    {
      "cell_type": "code",
      "source": [
        "# shape of the numpy arrays\n",
        "print(X_train.shape, Y_train.shape, X_test.shape, Y_test.shape)"
      ],
      "metadata": {
        "colab": {
          "base_uri": "https://localhost:8080/"
        },
        "id": "KK8ZWV6smDpv",
        "outputId": "cb70718a-dc90-469a-fc56-eba9f34f91f1"
      },
      "execution_count": 18,
      "outputs": [
        {
          "output_type": "stream",
          "name": "stdout",
          "text": [
            "(60000, 28, 28) (60000,) (10000, 28, 28) (10000,)\n"
          ]
        }
      ]
    },
    {
      "cell_type": "markdown",
      "source": [
        "Training data = 60,000 Images\n",
        "\n",
        "Test data = 10,000 Images"
      ],
      "metadata": {
        "id": "rr9jdm31nBxK"
      }
    },
    {
      "cell_type": "markdown",
      "source": [
        "Image dimension  --> 28 x 28\n",
        "\n",
        "Grayscale Image  --> 1 channel"
      ],
      "metadata": {
        "id": "XEYmlN6ZnHpk"
      }
    },
    {
      "cell_type": "code",
      "source": [
        "# printing the 10th image\n",
        "\n",
        "print(X_train[10])"
      ],
      "metadata": {
        "colab": {
          "base_uri": "https://localhost:8080/"
        },
        "id": "ClBWXM0umUAc",
        "outputId": "653e2287-9aa5-4b51-d6f7-8d65bf103416"
      },
      "execution_count": 19,
      "outputs": [
        {
          "output_type": "stream",
          "name": "stdout",
          "text": [
            "[[  0   0   0   0   0   0   0   0   0   0   0   0   0   0   0   0   0   0\n",
            "    0   0   0   0   0   0   0   0   0   0]\n",
            " [  0   0   0   0   0   0   0   0   0   0   0   0   0   0   0   0   0   0\n",
            "    0   0   0   0   0   0   0   0   0   0]\n",
            " [  0   0   0   0   0   0   0   0   0   0   0   0   0   0   0   0   0   0\n",
            "    0   0   0   0   0   0   0   0   0   0]\n",
            " [  0   0   0   0   0   0   0   0   0   0   0   0   0   0   0   0   0   0\n",
            "    0   0   0   0   0   0   0   0   0   0]\n",
            " [  0   0   0   0   0   0   0   0   0   0   0  42 118 219 166 118 118   6\n",
            "    0   0   0   0   0   0   0   0   0   0]\n",
            " [  0   0   0   0   0   0   0   0   0   0 103 242 254 254 254 254 254  66\n",
            "    0   0   0   0   0   0   0   0   0   0]\n",
            " [  0   0   0   0   0   0   0   0   0   0  18 232 254 254 254 254 254 238\n",
            "   70   0   0   0   0   0   0   0   0   0]\n",
            " [  0   0   0   0   0   0   0   0   0   0   0 104 244 254 224 254 254 254\n",
            "  141   0   0   0   0   0   0   0   0   0]\n",
            " [  0   0   0   0   0   0   0   0   0   0   0   0 207 254 210 254 254 254\n",
            "   34   0   0   0   0   0   0   0   0   0]\n",
            " [  0   0   0   0   0   0   0   0   0   0   0   0  84 206 254 254 254 254\n",
            "   41   0   0   0   0   0   0   0   0   0]\n",
            " [  0   0   0   0   0   0   0   0   0   0   0   0   0  24 209 254 254 254\n",
            "  171   0   0   0   0   0   0   0   0   0]\n",
            " [  0   0   0   0   0   0   0   0   0   0   0   0  91 137 253 254 254 254\n",
            "  112   0   0   0   0   0   0   0   0   0]\n",
            " [  0   0   0   0   0   0   0   0   0   0  40 214 250 254 254 254 254 254\n",
            "   34   0   0   0   0   0   0   0   0   0]\n",
            " [  0   0   0   0   0   0   0   0   0   0  81 247 254 254 254 254 254 254\n",
            "  146   0   0   0   0   0   0   0   0   0]\n",
            " [  0   0   0   0   0   0   0   0   0   0   0 110 246 254 254 254 254 254\n",
            "  171   0   0   0   0   0   0   0   0   0]\n",
            " [  0   0   0   0   0   0   0   0   0   0   0   0  73  89  89  93 240 254\n",
            "  171   0   0   0   0   0   0   0   0   0]\n",
            " [  0   0   0   0   0   0   0   0   0   0   0   0   0   0   0   1 128 254\n",
            "  219  31   0   0   0   0   0   0   0   0]\n",
            " [  0   0   0   0   0   0   0   0   0   0   0   0   0   0   0   7 254 254\n",
            "  214  28   0   0   0   0   0   0   0   0]\n",
            " [  0   0   0   0   0   0   0   0   0   0   0   0   0   0   0 138 254 254\n",
            "  116   0   0   0   0   0   0   0   0   0]\n",
            " [  0   0   0   0   0   0  19 177  90   0   0   0   0   0  25 240 254 254\n",
            "   34   0   0   0   0   0   0   0   0   0]\n",
            " [  0   0   0   0   0   0 164 254 215  63  36   0  51  89 206 254 254 139\n",
            "    8   0   0   0   0   0   0   0   0   0]\n",
            " [  0   0   0   0   0   0  57 197 254 254 222 180 241 254 254 253 213  11\n",
            "    0   0   0   0   0   0   0   0   0   0]\n",
            " [  0   0   0   0   0   0   0 140 105 254 254 254 254 254 254 236   0   0\n",
            "    0   0   0   0   0   0   0   0   0   0]\n",
            " [  0   0   0   0   0   0   0   0   7 117 117 165 254 254 239  50   0   0\n",
            "    0   0   0   0   0   0   0   0   0   0]\n",
            " [  0   0   0   0   0   0   0   0   0   0   0   0   0   0   0   0   0   0\n",
            "    0   0   0   0   0   0   0   0   0   0]\n",
            " [  0   0   0   0   0   0   0   0   0   0   0   0   0   0   0   0   0   0\n",
            "    0   0   0   0   0   0   0   0   0   0]\n",
            " [  0   0   0   0   0   0   0   0   0   0   0   0   0   0   0   0   0   0\n",
            "    0   0   0   0   0   0   0   0   0   0]\n",
            " [  0   0   0   0   0   0   0   0   0   0   0   0   0   0   0   0   0   0\n",
            "    0   0   0   0   0   0   0   0   0   0]]\n"
          ]
        }
      ]
    },
    {
      "cell_type": "code",
      "source": [
        "print(X_train[10].shape)"
      ],
      "metadata": {
        "colab": {
          "base_uri": "https://localhost:8080/"
        },
        "id": "6m2UC_APnbdu",
        "outputId": "0bdedccc-73f7-4a85-93e3-237ac322f4d1"
      },
      "execution_count": 20,
      "outputs": [
        {
          "output_type": "stream",
          "name": "stdout",
          "text": [
            "(28, 28)\n"
          ]
        }
      ]
    },
    {
      "cell_type": "code",
      "source": [
        "# displaying the image\n",
        "\n",
        "plt.imshow(X_train[25])\n",
        "plt.show()\n",
        "\n",
        "# print the corresponding label\n",
        "print(Y_train[25])"
      ],
      "metadata": {
        "colab": {
          "base_uri": "https://localhost:8080/",
          "height": 447
        },
        "id": "Lr0YHVHdni3J",
        "outputId": "66670093-c016-4063-942e-2259897a6f52"
      },
      "execution_count": 21,
      "outputs": [
        {
          "output_type": "display_data",
          "data": {
            "text/plain": [
              "<Figure size 640x480 with 1 Axes>"
            ],
            "image/png": "[encoded data removed]"
          },
          "metadata": {}
        },
        {
          "output_type": "stream",
          "name": "stdout",
          "text": [
            "2\n"
          ]
        }
      ]
    },
    {
      "cell_type": "markdown",
      "source": [
        "Image Lables"
      ],
      "metadata": {
        "id": "U-Zv1ayioHVH"
      }
    },
    {
      "cell_type": "code",
      "source": [
        "print(Y_train.shape, Y_test.shape)"
      ],
      "metadata": {
        "colab": {
          "base_uri": "https://localhost:8080/"
        },
        "id": "Nmf3HNLwn6Hh",
        "outputId": "151ed50c-6b27-4e98-8329-a31191dbb3de"
      },
      "execution_count": 22,
      "outputs": [
        {
          "output_type": "stream",
          "name": "stdout",
          "text": [
            "(60000,) (10000,)\n"
          ]
        }
      ]
    },
    {
      "cell_type": "code",
      "source": [
        "# unique values in Y_train\n",
        "print(np.unique(Y_train))\n",
        "\n",
        "# unique values in Y_test\n",
        "print(np.unique(Y_test))"
      ],
      "metadata": {
        "colab": {
          "base_uri": "https://localhost:8080/"
        },
        "id": "JoXh2a2xoM_8",
        "outputId": "faa90ed8-bd0f-4e04-83a5-7493b7c79be4"
      },
      "execution_count": 23,
      "outputs": [
        {
          "output_type": "stream",
          "name": "stdout",
          "text": [
            "[0 1 2 3 4 5 6 7 8 9]\n",
            "[0 1 2 3 4 5 6 7 8 9]\n"
          ]
        }
      ]
    },
    {
      "cell_type": "markdown",
      "source": [
        "We can use these labels as such or we can also apply One Hot Encoding"
      ],
      "metadata": {
        "id": "8wIddeQ4oqro"
      }
    },
    {
      "cell_type": "markdown",
      "source": [
        "All the images have the same dimensions in this dataset, If not, we have to resize all the images to a common dimension"
      ],
      "metadata": {
        "id": "g74YM0YJo6MW"
      }
    },
    {
      "cell_type": "code",
      "source": [
        "# scaling the values\n",
        "\n",
        "X_train = X_train/255\n",
        "X_test = X_test/255"
      ],
      "metadata": {
        "id": "gAJxI68noeW5"
      },
      "execution_count": 24,
      "outputs": []
    },
    {
      "cell_type": "code",
      "source": [
        "# printing the 10th image\n",
        "\n",
        "print(X_train[10])"
      ],
      "metadata": {
        "colab": {
          "base_uri": "https://localhost:8080/"
        },
        "id": "olSCXrwfpnpr",
        "outputId": "a775b89b-3c9d-47e1-bf14-2fbe03128b3d"
      },
      "execution_count": 25,
      "outputs": [
        {
          "output_type": "stream",
          "name": "stdout",
          "text": [
            "[[0.         0.         0.         0.         0.         0.\n",
            "  0.         0.         0.         0.         0.         0.\n",
            "  0.         0.         0.         0.         0.         0.\n",
            "  0.         0.         0.         0.         0.         0.\n",
            "  0.         0.         0.         0.        ]\n",
            " [0.         0.         0.         0.         0.         0.\n",
            "  0.         0.         0.         0.         0.         0.\n",
            "  0.         0.         0.         0.         0.         0.\n",
            "  0.         0.         0.         0.         0.         0.\n",
            "  0.         0.         0.         0.        ]\n",
            " [0.         0.         0.         0.         0.         0.\n",
            "  0.         0.         0.         0.         0.         0.\n",
            "  0.         0.         0.         0.         0.         0.\n",
            "  0.         0.         0.         0.         0.         0.\n",
            "  0.         0.         0.         0.        ]\n",
            " [0.         0.         0.         0.         0.         0.\n",
            "  0.         0.         0.         0.         0.         0.\n",
            "  0.         0.         0.         0.         0.         0.\n",
            "  0.         0.         0.         0.         0.         0.\n",
            "  0.         0.         0.         0.        ]\n",
            " [0.         0.         0.         0.         0.         0.\n",
            "  0.         0.         0.         0.         0.         0.16470588\n",
            "  0.4627451  0.85882353 0.65098039 0.4627451  0.4627451  0.02352941\n",
            "  0.         0.         0.         0.         0.         0.\n",
            "  0.         0.         0.         0.        ]\n",
            " [0.         0.         0.         0.         0.         0.\n",
            "  0.         0.         0.         0.         0.40392157 0.94901961\n",
            "  0.99607843 0.99607843 0.99607843 0.99607843 0.99607843 0.25882353\n",
            "  0.         0.         0.         0.         0.         0.\n",
            "  0.         0.         0.         0.        ]\n",
            " [0.         0.         0.         0.         0.         0.\n",
            "  0.         0.         0.         0.         0.07058824 0.90980392\n",
            "  0.99607843 0.99607843 0.99607843 0.99607843 0.99607843 0.93333333\n",
            "  0.2745098  0.         0.         0.         0.         0.\n",
            "  0.         0.         0.         0.        ]\n",
            " [0.         0.         0.         0.         0.         0.\n",
            "  0.         0.         0.         0.         0.         0.40784314\n",
            "  0.95686275 0.99607843 0.87843137 0.99607843 0.99607843 0.99607843\n",
            "  0.55294118 0.         0.         0.         0.         0.\n",
            "  0.         0.         0.         0.        ]\n",
            " [0.         0.         0.         0.         0.         0.\n",
            "  0.         0.         0.         0.         0.         0.\n",
            "  0.81176471 0.99607843 0.82352941 0.99607843 0.99607843 0.99607843\n",
            "  0.13333333 0.         0.         0.         0.         0.\n",
            "  0.         0.         0.         0.        ]\n",
            " [0.         0.         0.         0.         0.         0.\n",
            "  0.         0.         0.         0.         0.         0.\n",
            "  0.32941176 0.80784314 0.99607843 0.99607843 0.99607843 0.99607843\n",
            "  0.16078431 0.         0.         0.         0.         0.\n",
            "  0.         0.         0.         0.        ]\n",
            " [0.         0.         0.         0.         0.         0.\n",
            "  0.         0.         0.         0.         0.         0.\n",
            "  0.         0.09411765 0.81960784 0.99607843 0.99607843 0.99607843\n",
            "  0.67058824 0.         0.         0.         0.         0.\n",
            "  0.         0.         0.         0.        ]\n",
            " [0.         0.         0.         0.         0.         0.\n",
            "  0.         0.         0.         0.         0.         0.\n",
            "  0.35686275 0.5372549  0.99215686 0.99607843 0.99607843 0.99607843\n",
            "  0.43921569 0.         0.         0.         0.         0.\n",
            "  0.         0.         0.         0.        ]\n",
            " [0.         0.         0.         0.         0.         0.\n",
            "  0.         0.         0.         0.         0.15686275 0.83921569\n",
            "  0.98039216 0.99607843 0.99607843 0.99607843 0.99607843 0.99607843\n",
            "  0.13333333 0.         0.         0.         0.         0.\n",
            "  0.         0.         0.         0.        ]\n",
            " [0.         0.         0.         0.         0.         0.\n",
            "  0.         0.         0.         0.         0.31764706 0.96862745\n",
            "  0.99607843 0.99607843 0.99607843 0.99607843 0.99607843 0.99607843\n",
            "  0.57254902 0.         0.         0.         0.         0.\n",
            "  0.         0.         0.         0.        ]\n",
            " [0.         0.         0.         0.         0.         0.\n",
            "  0.         0.         0.         0.         0.         0.43137255\n",
            "  0.96470588 0.99607843 0.99607843 0.99607843 0.99607843 0.99607843\n",
            "  0.67058824 0.         0.         0.         0.         0.\n",
            "  0.         0.         0.         0.        ]\n",
            " [0.         0.         0.         0.         0.         0.\n",
            "  0.         0.         0.         0.         0.         0.\n",
            "  0.28627451 0.34901961 0.34901961 0.36470588 0.94117647 0.99607843\n",
            "  0.67058824 0.         0.         0.         0.         0.\n",
            "  0.         0.         0.         0.        ]\n",
            " [0.         0.         0.         0.         0.         0.\n",
            "  0.         0.         0.         0.         0.         0.\n",
            "  0.         0.         0.         0.00392157 0.50196078 0.99607843\n",
            "  0.85882353 0.12156863 0.         0.         0.         0.\n",
            "  0.         0.         0.         0.        ]\n",
            " [0.         0.         0.         0.         0.         0.\n",
            "  0.         0.         0.         0.         0.         0.\n",
            "  0.         0.         0.         0.02745098 0.99607843 0.99607843\n",
            "  0.83921569 0.10980392 0.         0.         0.         0.\n",
            "  0.         0.         0.         0.        ]\n",
            " [0.         0.         0.         0.         0.         0.\n",
            "  0.         0.         0.         0.         0.         0.\n",
            "  0.         0.         0.         0.54117647 0.99607843 0.99607843\n",
            "  0.45490196 0.         0.         0.         0.         0.\n",
            "  0.         0.         0.         0.        ]\n",
            " [0.         0.         0.         0.         0.         0.\n",
            "  0.0745098  0.69411765 0.35294118 0.         0.         0.\n",
            "  0.         0.         0.09803922 0.94117647 0.99607843 0.99607843\n",
            "  0.13333333 0.         0.         0.         0.         0.\n",
            "  0.         0.         0.         0.        ]\n",
            " [0.         0.         0.         0.         0.         0.\n",
            "  0.64313725 0.99607843 0.84313725 0.24705882 0.14117647 0.\n",
            "  0.2        0.34901961 0.80784314 0.99607843 0.99607843 0.54509804\n",
            "  0.03137255 0.         0.         0.         0.         0.\n",
            "  0.         0.         0.         0.        ]\n",
            " [0.         0.         0.         0.         0.         0.\n",
            "  0.22352941 0.77254902 0.99607843 0.99607843 0.87058824 0.70588235\n",
            "  0.94509804 0.99607843 0.99607843 0.99215686 0.83529412 0.04313725\n",
            "  0.         0.         0.         0.         0.         0.\n",
            "  0.         0.         0.         0.        ]\n",
            " [0.         0.         0.         0.         0.         0.\n",
            "  0.         0.54901961 0.41176471 0.99607843 0.99607843 0.99607843\n",
            "  0.99607843 0.99607843 0.99607843 0.9254902  0.         0.\n",
            "  0.         0.         0.         0.         0.         0.\n",
            "  0.         0.         0.         0.        ]\n",
            " [0.         0.         0.         0.         0.         0.\n",
            "  0.         0.         0.02745098 0.45882353 0.45882353 0.64705882\n",
            "  0.99607843 0.99607843 0.9372549  0.19607843 0.         0.\n",
            "  0.         0.         0.         0.         0.         0.\n",
            "  0.         0.         0.         0.        ]\n",
            " [0.         0.         0.         0.         0.         0.\n",
            "  0.         0.         0.         0.         0.         0.\n",
            "  0.         0.         0.         0.         0.         0.\n",
            "  0.         0.         0.         0.         0.         0.\n",
            "  0.         0.         0.         0.        ]\n",
            " [0.         0.         0.         0.         0.         0.\n",
            "  0.         0.         0.         0.         0.         0.\n",
            "  0.         0.         0.         0.         0.         0.\n",
            "  0.         0.         0.         0.         0.         0.\n",
            "  0.         0.         0.         0.        ]\n",
            " [0.         0.         0.         0.         0.         0.\n",
            "  0.         0.         0.         0.         0.         0.\n",
            "  0.         0.         0.         0.         0.         0.\n",
            "  0.         0.         0.         0.         0.         0.\n",
            "  0.         0.         0.         0.        ]\n",
            " [0.         0.         0.         0.         0.         0.\n",
            "  0.         0.         0.         0.         0.         0.\n",
            "  0.         0.         0.         0.         0.         0.\n",
            "  0.         0.         0.         0.         0.         0.\n",
            "  0.         0.         0.         0.        ]]\n"
          ]
        }
      ]
    },
    {
      "cell_type": "markdown",
      "source": [
        "Building the Neural Network"
      ],
      "metadata": {
        "id": "-OGxD2JNqW7V"
      }
    },
    {
      "cell_type": "code",
      "source": [
        "# setting up the layers of the Neural  Network\n",
        "\n",
        "model = keras.Sequential([\n",
        "                          keras.layers.Flatten(input_shape=(28,28)),\n",
        "                          keras.layers.Dense(50, activation='relu'),\n",
        "                          keras.layers.Dense(50, activation='relu'),\n",
        "                          keras.layers.Dense(10, activation='sigmoid')\n",
        "])"
      ],
      "metadata": {
        "id": "w5Cc2uc7qM0v"
      },
      "execution_count": 26,
      "outputs": []
    },
    {
      "cell_type": "code",
      "source": [
        "# compiling the Neural Network\n",
        "\n",
        "model.compile(optimizer='adam',\n",
        "              loss = 'sparse_categorical_crossentropy',\n",
        "              metrics=['accuracy'])"
      ],
      "metadata": {
        "id": "1I2D8NLxsEsf"
      },
      "execution_count": 27,
      "outputs": []
    },
    {
      "cell_type": "code",
      "source": [
        "# training the Neural Network\n",
        "\n",
        "model.fit(X_train, Y_train, epochs=10)"
      ],
      "metadata": {
        "colab": {
          "base_uri": "https://localhost:8080/"
        },
        "id": "NyaE8g3os3Ty",
        "outputId": "72ec6a0a-d407-4f93-9739-e46555c7652c"
      },
      "execution_count": 14,
      "outputs": [
        {
          "output_type": "stream",
          "name": "stdout",
          "text": [
            "Epoch 1/10\n",
            "1875/1875 [==============================] - 8s 4ms/step - loss: 0.3019 - accuracy: 0.9111\n",
            "Epoch 2/10\n",
            "1875/1875 [==============================] - 11s 6ms/step - loss: 0.1467 - accuracy: 0.9557\n",
            "Epoch 3/10\n",
            "1875/1875 [==============================] - 10s 5ms/step - loss: 0.1099 - accuracy: 0.9661\n",
            "Epoch 4/10\n",
            "1875/1875 [==============================] - 5s 2ms/step - loss: 0.0883 - accuracy: 0.9729\n",
            "Epoch 5/10\n",
            "1875/1875 [==============================] - 6s 3ms/step - loss: 0.0723 - accuracy: 0.9778\n",
            "Epoch 6/10\n",
            "1875/1875 [==============================] - 5s 3ms/step - loss: 0.0633 - accuracy: 0.9799\n",
            "Epoch 7/10\n",
            "1875/1875 [==============================] - 4s 2ms/step - loss: 0.0547 - accuracy: 0.9831\n",
            "Epoch 8/10\n",
            "1875/1875 [==============================] - 5s 3ms/step - loss: 0.0476 - accuracy: 0.9847\n",
            "Epoch 9/10\n",
            "1875/1875 [==============================] - 5s 3ms/step - loss: 0.0425 - accuracy: 0.9863\n",
            "Epoch 10/10\n",
            "1875/1875 [==============================] - 4s 2ms/step - loss: 0.0379 - accuracy: 0.9879\n"
          ]
        },
        {
          "output_type": "execute_result",
          "data": {
            "text/plain": [
              "<keras.src.callbacks.History at 0x7fe916299ed0>"
            ]
          },
          "metadata": {},
          "execution_count": 14
        }
      ]
    },
    {
      "cell_type": "markdown",
      "source": [
        "Training data accuracy = 98.9%"
      ],
      "metadata": {
        "id": "BCIrbFzatnNL"
      }
    },
    {
      "cell_type": "markdown",
      "source": [
        "**Accuracy on Test data:**"
      ],
      "metadata": {
        "id": "PzqQaLcBtvUh"
      }
    },
    {
      "cell_type": "code",
      "source": [
        "loss, accuracy = model.evaluate(X_test, Y_test)\n",
        "print(accuracy)"
      ],
      "metadata": {
        "colab": {
          "base_uri": "https://localhost:8080/"
        },
        "id": "XoyRl62stGvm",
        "outputId": "6f0130e6-c34e-4480-c753-6a17ac57a531"
      },
      "execution_count": 28,
      "outputs": [
        {
          "output_type": "stream",
          "name": "stdout",
          "text": [
            "313/313 [==============================] - 1s 2ms/step - loss: 2.3599 - accuracy: 0.0990\n",
            "0.0989999994635582\n"
          ]
        }
      ]
    },
    {
      "cell_type": "markdown",
      "source": [
        "Test data accuracy = 97.1%"
      ],
      "metadata": {
        "id": "LvDub61LuJ3Q"
      }
    },
    {
      "cell_type": "code",
      "source": [
        "print(X_test.shape)"
      ],
      "metadata": {
        "colab": {
          "base_uri": "https://localhost:8080/"
        },
        "id": "Jy_0KNc7uE8P",
        "outputId": "b179f892-90bd-41cc-a309-bb7976226f7d"
      },
      "execution_count": 29,
      "outputs": [
        {
          "output_type": "stream",
          "name": "stdout",
          "text": [
            "(10000, 28, 28)\n"
          ]
        }
      ]
    },
    {
      "cell_type": "code",
      "source": [
        "# first data point in X_test\n",
        "plt.imshow(X_test[0])\n",
        "plt.show()"
      ],
      "metadata": {
        "colab": {
          "base_uri": "https://localhost:8080/",
          "height": 430
        },
        "id": "H0FbpoPQuUXx",
        "outputId": "58d1a08e-e208-4fd8-829d-b3eb4940d22f"
      },
      "execution_count": 30,
      "outputs": [
        {
          "output_type": "display_data",
          "data": {
            "text/plain": [
              "<Figure size 640x480 with 1 Axes>"
            ],
            "image/png": "[encoded data removed]"
          },
          "metadata": {}
        }
      ]
    },
    {
      "cell_type": "code",
      "source": [
        "print(Y_test[0])"
      ],
      "metadata": {
        "colab": {
          "base_uri": "https://localhost:8080/"
        },
        "id": "r9FHvoC0ueE-",
        "outputId": "f07e27ab-9df5-402a-909a-f3ecee9d3237"
      },
      "execution_count": 31,
      "outputs": [
        {
          "output_type": "stream",
          "name": "stdout",
          "text": [
            "7\n"
          ]
        }
      ]
    },
    {
      "cell_type": "code",
      "source": [
        "Y_pred = model.predict(X_test)"
      ],
      "metadata": {
        "id": "fdYxpFVgujWJ",
        "outputId": "eedb8e5a-ddba-4abd-ae5d-a038bd306643",
        "colab": {
          "base_uri": "https://localhost:8080/"
        }
      },
      "execution_count": 32,
      "outputs": [
        {
          "output_type": "stream",
          "name": "stdout",
          "text": [
            "313/313 [==============================] - 1s 2ms/step\n"
          ]
        }
      ]
    },
    {
      "cell_type": "code",
      "source": [
        "print(Y_pred.shape)"
      ],
      "metadata": {
        "colab": {
          "base_uri": "https://localhost:8080/"
        },
        "id": "JK6kpaNGuw16",
        "outputId": "ccb82a11-3539-4ac3-d9c5-260dce3a33f7"
      },
      "execution_count": 33,
      "outputs": [
        {
          "output_type": "stream",
          "name": "stdout",
          "text": [
            "(10000, 10)\n"
          ]
        }
      ]
    },
    {
      "cell_type": "code",
      "source": [
        "print(Y_pred[0])"
      ],
      "metadata": {
        "colab": {
          "base_uri": "https://localhost:8080/"
        },
        "id": "3czHMOdou069",
        "outputId": "ad5e0f79-f041-4442-ff09-8eb2ae9ce92d"
      },
      "execution_count": 34,
      "outputs": [
        {
          "output_type": "stream",
          "name": "stdout",
          "text": [
            "[0.43519914 0.45600584 0.43985072 0.44241875 0.5829301  0.35492665\n",
            " 0.57785434 0.41251063 0.49745953 0.51308995]\n"
          ]
        }
      ]
    },
    {
      "cell_type": "markdown",
      "source": [
        "model.predict() gives the prediction probability of each class for that data point"
      ],
      "metadata": {
        "id": "m2enu0zlvSzv"
      }
    },
    {
      "cell_type": "code",
      "source": [
        "# converting the prediction probabilities to class label\n",
        "\n",
        "label_for_first_test_image = np.argmax(Y_pred[0])\n",
        "print(label_for_first_test_image)"
      ],
      "metadata": {
        "colab": {
          "base_uri": "https://localhost:8080/"
        },
        "id": "X5Z-zYKvu-tO",
        "outputId": "022dc536-0c7e-4cea-97d5-5bfb89cd8d72"
      },
      "execution_count": 35,
      "outputs": [
        {
          "output_type": "stream",
          "name": "stdout",
          "text": [
            "4\n"
          ]
        }
      ]
    },
    {
      "cell_type": "code",
      "source": [
        "# converting the prediction probabilities to class label for all test data points\n",
        "Y_pred_labels = [np.argmax(i) for i in Y_pred]\n",
        "print(Y_pred_labels)"
      ],
      "metadata": {
        "colab": {
          "base_uri": "https://localhost:8080/"
        },
        "id": "feoJffe2v38n",
        "outputId": "d00ca8c1-b6e7-4279-c6a9-67da0e4b2a8c"
      },
      "execution_count": 36,
      "outputs": [
        {
          "output_type": "stream",
          "name": "stdout",
          "text": [
            "[4, 9, 1, 4, 4, 4, 4, 4, 4, 4, 4, 4, 6, 6, 4, 1, 4, 9, 1, 6, 4, 6, 4, 6, 4, 4, 4, 6, 1, 4, 9, 6, 1, 4, 4, 1, 4, 4, 6, 4, 4, 4, 4, 4, 1, 1, 4, 4, 6, 4, 4, 9, 9, 4, 4, 9, 4, 4, 6, 4, 4, 4, 6, 6, 6, 4, 4, 4, 6, 4, 4, 4, 6, 6, 4, 4, 1, 4, 4, 4, 4, 4, 4, 6, 4, 4, 4, 6, 6, 4, 6, 6, 6, 4, 4, 4, 1, 4, 4, 4, 4, 4, 9, 4, 4, 4, 4, 4, 4, 4, 4, 4, 6, 4, 4, 4, 6, 4, 6, 4, 9, 4, 4, 4, 4, 4, 1, 4, 6, 6, 4, 4, 1, 4, 6, 4, 6, 4, 4, 4, 4, 4, 3, 4, 4, 6, 6, 4, 6, 4, 3, 1, 6, 4, 4, 4, 4, 6, 4, 4, 6, 4, 9, 2, 4, 1, 6, 4, 4, 6, 6, 4, 4, 4, 4, 4, 4, 6, 4, 4, 4, 4, 6, 4, 9, 6, 4, 3, 6, 1, 4, 1, 6, 6, 6, 4, 4, 4, 6, 4, 1, 4, 4, 4, 4, 1, 6, 9, 4, 4, 4, 6, 4, 4, 6, 6, 2, 1, 6, 6, 4, 3, 4, 4, 4, 9, 1, 4, 4, 4, 4, 1, 1, 4, 4, 4, 4, 4, 4, 4, 4, 3, 6, 6, 4, 6, 4, 4, 4, 6, 6, 4, 6, 1, 4, 4, 4, 4, 4, 4, 6, 4, 4, 4, 4, 4, 4, 4, 4, 4, 9, 4, 4, 6, 4, 6, 4, 1, 4, 4, 4, 6, 6, 6, 4, 4, 4, 1, 4, 1, 4, 4, 4, 4, 6, 4, 4, 4, 4, 4, 4, 6, 4, 4, 4, 4, 6, 6, 4, 3, 4, 4, 6, 1, 4, 6, 4, 4, 6, 4, 4, 4, 4, 6, 6, 4, 4, 4, 4, 4, 4, 6, 4, 6, 9, 1, 4, 4, 0, 4, 4, 4, 4, 9, 4, 4, 9, 4, 1, 4, 4, 9, 4, 4, 6, 4, 9, 4, 4, 6, 4, 4, 9, 4, 4, 9, 4, 9, 4, 9, 4, 4, 4, 4, 6, 4, 6, 4, 4, 6, 4, 6, 1, 4, 4, 2, 6, 4, 6, 4, 4, 6, 6, 4, 4, 9, 4, 4, 4, 4, 4, 4, 4, 4, 6, 4, 1, 3, 1, 6, 4, 4, 9, 4, 4, 4, 4, 6, 2, 4, 4, 1, 4, 4, 4, 4, 4, 4, 4, 4, 1, 9, 4, 6, 6, 4, 4, 6, 4, 1, 4, 6, 9, 9, 6, 4, 4, 4, 6, 1, 1, 6, 6, 3, 4, 4, 4, 9, 6, 4, 6, 4, 4, 4, 4, 6, 6, 4, 4, 3, 4, 4, 4, 4, 3, 4, 4, 1, 3, 1, 4, 4, 6, 6, 4, 6, 4, 6, 6, 4, 4, 6, 6, 1, 4, 4, 4, 6, 9, 4, 1, 4, 4, 4, 4, 6, 4, 4, 4, 9, 4, 4, 6, 4, 6, 4, 4, 6, 3, 6, 4, 4, 4, 6, 4, 4, 3, 9, 4, 4, 4, 4, 4, 4, 4, 4, 4, 4, 4, 4, 9, 4, 4, 4, 6, 6, 4, 6, 2, 4, 4, 4, 9, 2, 4, 6, 4, 4, 6, 4, 4, 4, 6, 6, 3, 4, 4, 6, 4, 4, 9, 6, 4, 1, 1, 6, 2, 6, 6, 6, 6, 4, 4, 4, 4, 4, 4, 4, 4, 4, 1, 3, 4, 6, 4, 1, 4, 4, 6, 4, 4, 4, 4, 9, 6, 4, 4, 4, 1, 6, 6, 4, 4, 6, 4, 4, 6, 4, 6, 4, 6, 6, 6, 4, 4, 4, 4, 4, 4, 4, 4, 6, 6, 4, 4, 4, 4, 1, 6, 6, 4, 4, 4, 1, 6, 4, 4, 4, 3, 4, 6, 6, 4, 4, 4, 4, 4, 1, 4, 4, 4, 4, 4, 4, 6, 4, 4, 4, 4, 1, 6, 4, 4, 6, 1, 4, 4, 1, 4, 4, 4, 4, 4, 1, 4, 4, 4, 6, 4, 4, 4, 4, 6, 4, 6, 4, 6, 6, 1, 1, 1, 4, 4, 4, 6, 4, 4, 6, 4, 6, 6, 3, 4, 4, 9, 4, 4, 4, 6, 4, 1, 4, 1, 4, 6, 4, 1, 6, 9, 6, 4, 2, 1, 4, 2, 4, 4, 4, 4, 9, 4, 6, 6, 4, 4, 4, 4, 4, 4, 4, 4, 9, 6, 4, 4, 4, 4, 6, 4, 4, 4, 6, 4, 1, 2, 4, 9, 4, 4, 4, 6, 4, 4, 4, 6, 4, 4, 4, 4, 6, 4, 4, 1, 4, 4, 9, 4, 1, 6, 4, 4, 4, 6, 4, 6, 4, 1, 6, 4, 4, 3, 1, 6, 4, 4, 6, 4, 9, 9, 4, 4, 2, 1, 4, 4, 9, 4, 4, 4, 6, 4, 4, 4, 4, 4, 4, 4, 6, 3, 6, 6, 4, 6, 4, 4, 4, 4, 1, 4, 6, 4, 4, 4, 4, 3, 6, 4, 4, 4, 3, 4, 9, 4, 4, 4, 3, 6, 4, 4, 4, 4, 4, 4, 4, 4, 9, 6, 1, 4, 9, 4, 6, 4, 4, 4, 1, 3, 4, 1, 4, 4, 4, 4, 9, 3, 4, 4, 4, 4, 4, 2, 4, 4, 4, 1, 4, 4, 4, 4, 1, 4, 1, 4, 4, 1, 4, 6, 4, 6, 4, 6, 4, 9, 4, 4, 4, 1, 4, 4, 0, 6, 4, 4, 6, 4, 6, 6, 1, 4, 4, 4, 4, 1, 9, 6, 4, 6, 4, 4, 9, 4, 4, 6, 4, 6, 4, 6, 6, 4, 4, 2, 4, 4, 6, 6, 6, 4, 3, 9, 6, 4, 6, 6, 4, 4, 9, 4, 4, 6, 4, 4, 4, 4, 4, 4, 4, 4, 4, 9, 4, 4, 4, 6, 4, 4, 9, 6, 4, 4, 6, 4, 6, 4, 6, 1, 4, 4, 6, 4, 4, 4, 6, 4, 1, 9, 6, 4, 4, 4, 1, 4, 4, 4, 6, 4, 6, 4, 4, 9, 4, 3, 4, 6, 4, 4, 4, 9, 4, 1, 6, 4, 4, 6, 4, 6, 4, 6, 4, 4, 4, 4, 6, 9, 4, 4, 4, 6, 4, 6, 2, 0, 1, 4, 4, 4, 4, 6, 6, 4, 6, 4, 4, 6, 4, 4, 4, 3, 6, 4, 9, 4, 6, 6, 4, 6, 4, 9, 6, 4, 6, 4, 4, 1, 4, 4, 6, 4, 6, 4, 9, 4, 4, 4, 4, 6, 1, 6, 4, 9, 1, 4, 4, 4, 4, 4, 6, 4, 3, 4, 1, 6, 6, 4, 6, 4, 3, 6, 4, 1, 6, 4, 6, 4, 4, 6, 4, 4, 6, 4, 4, 4, 1, 4, 4, 1, 4, 3, 4, 4, 4, 4, 6, 6, 4, 6, 1, 9, 4, 4, 4, 1, 4, 6, 4, 9, 1, 4, 4, 4, 6, 4, 4, 4, 4, 6, 6, 3, 4, 6, 6, 4, 4, 1, 4, 4, 6, 9, 1, 4, 4, 4, 4, 4, 6, 4, 6, 4, 4, 9, 4, 6, 4, 1, 4, 4, 9, 4, 4, 4, 4, 4, 4, 4, 4, 4, 6, 6, 6, 4, 4, 4, 4, 4, 4, 4, 6, 4, 4, 4, 4, 4, 4, 1, 4, 4, 6, 4, 4, 6, 6, 4, 6, 4, 4, 4, 4, 4, 1, 4, 9, 4, 6, 4, 4, 4, 4, 6, 6, 4, 6, 4, 4, 9, 4, 6, 4, 6, 4, 6, 4, 6, 6, 4, 4, 6, 4, 4, 4, 6, 4, 6, 1, 4, 4, 4, 6, 4, 6, 9, 4, 4, 6, 6, 2, 9, 6, 2, 4, 4, 3, 4, 4, 4, 4, 9, 1, 4, 3, 4, 3, 4, 4, 4, 2, 4, 4, 4, 4, 4, 6, 9, 6, 6, 1, 4, 4, 4, 4, 4, 4, 4, 4, 4, 4, 4, 4, 6, 4, 4, 4, 6, 4, 4, 4, 1, 6, 4, 4, 4, 1, 6, 4, 4, 4, 6, 4, 4, 6, 4, 4, 4, 4, 4, 6, 4, 4, 4, 4, 2, 4, 4, 4, 4, 4, 4, 4, 4, 3, 4, 6, 6, 1, 6, 6, 0, 6, 6, 4, 4, 4, 4, 4, 4, 4, 4, 6, 4, 6, 4, 6, 4, 4, 4, 3, 4, 4, 4, 4, 4, 9, 4, 6, 4, 4, 1, 4, 6, 2, 4, 4, 4, 1, 4, 6, 4, 4, 6, 6, 4, 1, 4, 2, 4, 4, 4, 6, 6, 4, 4, 4, 4, 4, 1, 4, 6, 4, 9, 4, 4, 4, 6, 4, 1, 6, 4, 6, 4, 4, 4, 4, 4, 4, 6, 4, 6, 4, 4, 4, 4, 4, 4, 4, 2, 6, 3, 4, 4, 6, 1, 4, 6, 6, 1, 6, 4, 4, 9, 4, 4, 3, 4, 4, 3, 4, 2, 4, 1, 4, 4, 1, 1, 4, 4, 6, 6, 2, 4, 4, 4, 3, 4, 4, 4, 1, 6, 4, 4, 4, 6, 1, 9, 1, 4, 3, 4, 4, 6, 4, 4, 9, 4, 9, 4, 1, 6, 4, 4, 4, 4, 4, 4, 3, 4, 6, 4, 1, 1, 4, 4, 1, 6, 4, 4, 4, 6, 4, 4, 6, 4, 4, 6, 4, 4, 1, 6, 1, 6, 6, 6, 6, 4, 4, 1, 4, 4, 6, 4, 4, 1, 4, 4, 6, 6, 4, 4, 6, 6, 4, 6, 9, 6, 6, 4, 6, 3, 4, 2, 4, 1, 4, 6, 6, 4, 4, 6, 4, 4, 4, 9, 4, 9, 6, 6, 4, 4, 1, 6, 1, 1, 4, 9, 4, 6, 4, 6, 1, 4, 4, 6, 9, 4, 4, 4, 4, 4, 4, 6, 4, 9, 6, 4, 6, 4, 4, 4, 4, 6, 1, 4, 4, 1, 4, 4, 4, 6, 4, 4, 4, 4, 4, 6, 6, 4, 9, 4, 4, 4, 4, 1, 4, 4, 4, 4, 4, 4, 4, 3, 4, 6, 4, 4, 4, 6, 4, 4, 4, 4, 6, 4, 4, 6, 4, 6, 6, 6, 6, 4, 6, 4, 4, 6, 4, 4, 6, 4, 2, 4, 4, 9, 6, 4, 2, 1, 4, 4, 4, 4, 4, 4, 4, 4, 6, 1, 4, 4, 4, 4, 4, 6, 6, 4, 6, 4, 4, 4, 1, 4, 6, 4, 4, 4, 3, 6, 4, 4, 4, 4, 4, 1, 6, 6, 4, 1, 6, 4, 4, 1, 6, 4, 6, 6, 4, 6, 4, 4, 6, 4, 4, 6, 4, 4, 4, 3, 2, 6, 9, 4, 4, 6, 4, 4, 1, 4, 4, 4, 1, 4, 6, 4, 4, 4, 6, 4, 6, 4, 4, 4, 6, 4, 4, 4, 4, 4, 4, 4, 4, 4, 3, 1, 4, 4, 4, 4, 6, 6, 2, 4, 4, 4, 6, 1, 6, 4, 6, 4, 4, 6, 4, 6, 4, 4, 6, 6, 6, 9, 4, 4, 4, 4, 4, 2, 4, 2, 9, 4, 4, 4, 1, 4, 6, 3, 4, 4, 4, 4, 3, 4, 4, 4, 4, 4, 6, 4, 4, 4, 3, 3, 4, 4, 6, 6, 4, 4, 4, 6, 4, 1, 4, 4, 6, 4, 4, 6, 4, 6, 6, 2, 6, 1, 6, 6, 4, 1, 4, 4, 4, 4, 4, 4, 4, 4, 6, 4, 1, 6, 4, 9, 2, 4, 4, 4, 6, 9, 4, 6, 6, 6, 6, 4, 4, 4, 6, 6, 1, 6, 1, 4, 3, 6, 6, 4, 4, 4, 3, 4, 4, 1, 6, 6, 4, 4, 3, 4, 4, 4, 4, 4, 4, 4, 4, 4, 4, 4, 4, 4, 4, 6, 4, 4, 4, 4, 4, 4, 6, 1, 4, 4, 4, 2, 6, 6, 4, 6, 3, 6, 4, 4, 9, 6, 4, 3, 4, 6, 1, 6, 4, 3, 4, 6, 3, 6, 6, 9, 1, 4, 6, 4, 4, 6, 4, 4, 4, 4, 6, 4, 4, 4, 9, 4, 9, 4, 4, 4, 6, 4, 4, 4, 4, 1, 4, 6, 6, 6, 6, 4, 4, 6, 4, 4, 6, 6, 4, 1, 3, 4, 4, 6, 6, 6, 9, 4, 1, 6, 4, 4, 1, 4, 4, 4, 4, 4, 4, 6, 4, 6, 9, 6, 4, 4, 6, 6, 4, 6, 6, 4, 1, 6, 4, 6, 4, 4, 6, 4, 4, 6, 4, 4, 6, 4, 3, 4, 6, 3, 4, 1, 1, 1, 9, 4, 4, 6, 9, 4, 1, 1, 9, 3, 6, 4, 4, 4, 4, 4, 6, 6, 6, 4, 6, 6, 1, 1, 6, 4, 6, 6, 9, 6, 4, 1, 4, 1, 6, 4, 4, 6, 4, 9, 4, 4, 4, 4, 1, 4, 4, 4, 6, 4, 6, 3, 1, 6, 4, 4, 1, 2, 4, 4, 4, 6, 1, 4, 4, 4, 4, 4, 4, 4, 6, 4, 4, 4, 4, 4, 1, 4, 4, 4, 4, 4, 6, 4, 4, 9, 4, 4, 6, 4, 4, 4, 4, 4, 6, 6, 6, 1, 4, 4, 1, 6, 1, 1, 4, 4, 4, 4, 6, 1, 4, 4, 4, 6, 6, 6, 6, 4, 4, 6, 2, 4, 4, 4, 4, 4, 2, 9, 4, 4, 4, 4, 6, 6, 6, 6, 6, 1, 4, 4, 4, 6, 6, 4, 6, 1, 4, 4, 6, 6, 3, 4, 4, 4, 4, 6, 1, 4, 4, 3, 4, 4, 4, 4, 6, 6, 4, 6, 4, 4, 9, 4, 6, 4, 3, 4, 4, 4, 1, 4, 4, 4, 4, 4, 4, 4, 4, 4, 6, 4, 4, 4, 4, 4, 6, 4, 4, 4, 4, 4, 4, 4, 1, 3, 1, 1, 4, 9, 4, 4, 4, 4, 6, 4, 9, 3, 4, 4, 4, 4, 4, 4, 4, 4, 4, 4, 1, 4, 4, 4, 6, 9, 6, 4, 4, 9, 4, 4, 4, 4, 4, 4, 4, 6, 4, 4, 4, 4, 4, 6, 6, 6, 6, 4, 4, 4, 4, 6, 4, 6, 4, 4, 6, 4, 4, 4, 4, 4, 4, 1, 1, 6, 6, 4, 4, 4, 4, 6, 4, 4, 4, 4, 4, 6, 4, 6, 6, 1, 4, 4, 4, 2, 4, 9, 4, 4, 6, 6, 4, 6, 6, 1, 4, 4, 6, 6, 4, 9, 4, 4, 6, 4, 4, 6, 4, 1, 4, 4, 6, 4, 6, 4, 4, 9, 4, 6, 4, 4, 6, 4, 4, 9, 4, 1, 4, 4, 1, 4, 4, 4, 0, 4, 4, 4, 4, 4, 1, 6, 3, 4, 4, 4, 3, 4, 6, 6, 4, 4, 4, 4, 4, 4, 4, 6, 4, 4, 6, 4, 3, 9, 4, 6, 9, 4, 1, 9, 1, 4, 4, 4, 6, 6, 4, 4, 6, 4, 4, 4, 4, 4, 6, 6, 6, 9, 4, 6, 4, 4, 4, 4, 6, 4, 4, 4, 4, 6, 6, 4, 1, 6, 6, 4, 4, 2, 4, 6, 6, 4, 4, 4, 4, 4, 4, 6, 6, 9, 1, 1, 6, 6, 4, 6, 4, 4, 1, 3, 4, 6, 4, 4, 4, 9, 6, 1, 4, 1, 6, 4, 6, 1, 4, 6, 4, 6, 4, 4, 1, 9, 4, 4, 4, 6, 4, 4, 4, 4, 6, 4, 6, 9, 4, 4, 6, 6, 6, 6, 4, 6, 1, 9, 6, 0, 1, 4, 6, 4, 4, 4, 6, 6, 4, 4, 1, 6, 1, 4, 4, 4, 4, 4, 4, 4, 6, 4, 6, 4, 6, 6, 6, 9, 9, 4, 1, 4, 4, 6, 6, 1, 4, 4, 9, 4, 4, 4, 4, 4, 6, 1, 6, 9, 6, 6, 4, 9, 4, 4, 4, 6, 6, 1, 6, 9, 6, 4, 4, 4, 1, 0, 4, 4, 3, 4, 9, 4, 6, 9, 4, 1, 4, 4, 4, 4, 9, 6, 4, 4, 4, 4, 6, 4, 1, 9, 4, 6, 9, 9, 6, 4, 4, 1, 4, 4, 4, 1, 4, 4, 4, 4, 4, 4, 6, 4, 4, 9, 4, 4, 4, 4, 4, 1, 6, 4, 4, 6, 4, 4, 6, 4, 4, 9, 4, 4, 1, 4, 6, 4, 4, 6, 4, 4, 4, 6, 4, 4, 6, 4, 4, 4, 4, 4, 6, 2, 4, 1, 1, 1, 9, 4, 6, 6, 1, 4, 4, 6, 4, 4, 4, 4, 4, 4, 9, 4, 4, 4, 1, 4, 1, 4, 6, 4, 1, 4, 4, 4, 4, 4, 6, 6, 3, 4, 4, 1, 4, 6, 6, 4, 4, 6, 6, 4, 4, 9, 6, 4, 4, 6, 4, 9, 6, 4, 2, 9, 6, 4, 4, 4, 4, 1, 4, 6, 1, 1, 4, 6, 4, 4, 6, 4, 9, 4, 6, 3, 4, 6, 4, 6, 4, 9, 6, 6, 4, 6, 1, 6, 4, 1, 4, 1, 4, 6, 3, 4, 4, 6, 4, 4, 3, 1, 4, 4, 4, 4, 6, 6, 6, 4, 4, 6, 4, 4, 4, 6, 1, 4, 4, 9, 4, 1, 4, 3, 4, 4, 4, 6, 4, 9, 6, 4, 6, 4, 4, 4, 6, 4, 4, 4, 6, 4, 4, 6, 6, 4, 4, 4, 4, 4, 4, 6, 9, 6, 4, 4, 4, 6, 6, 4, 6, 6, 6, 4, 4, 4, 4, 4, 1, 4, 4, 1, 1, 6, 4, 4, 4, 4, 6, 4, 4, 4, 6, 1, 6, 6, 4, 4, 6, 4, 1, 4, 6, 1, 4, 4, 6, 1, 4, 4, 9, 4, 4, 6, 4, 4, 4, 4, 1, 6, 6, 1, 4, 6, 4, 1, 4, 6, 4, 4, 3, 4, 6, 4, 9, 4, 4, 4, 4, 3, 4, 9, 4, 4, 4, 4, 6, 4, 6, 1, 6, 4, 6, 3, 4, 6, 4, 6, 6, 6, 4, 6, 4, 4, 6, 4, 4, 4, 6, 6, 3, 4, 6, 4, 4, 1, 4, 4, 4, 4, 4, 4, 3, 6, 4, 6, 2, 4, 9, 1, 4, 6, 4, 4, 4, 4, 1, 4, 6, 4, 4, 4, 6, 6, 6, 6, 4, 9, 4, 6, 4, 4, 3, 4, 4, 6, 4, 1, 1, 6, 1, 4, 6, 6, 4, 6, 6, 6, 4, 6, 4, 6, 4, 6, 4, 6, 4, 4, 6, 4, 1, 4, 3, 4, 1, 4, 1, 4, 4, 4, 6, 4, 4, 4, 4, 4, 4, 4, 4, 4, 4, 6, 6, 6, 4, 6, 1, 4, 4, 4, 4, 6, 6, 4, 4, 1, 4, 3, 4, 4, 1, 4, 1, 4, 1, 1, 1, 6, 3, 4, 4, 3, 6, 4, 4, 4, 4, 1, 4, 4, 4, 1, 4, 4, 4, 4, 4, 4, 4, 3, 6, 4, 2, 4, 4, 4, 6, 1, 4, 4, 4, 4, 4, 4, 6, 4, 4, 4, 3, 4, 4, 6, 6, 4, 4, 4, 4, 9, 6, 4, 4, 4, 4, 4, 4, 4, 4, 4, 6, 4, 6, 4, 6, 4, 4, 6, 6, 6, 4, 6, 4, 4, 6, 6, 1, 6, 6, 4, 3, 4, 4, 4, 4, 1, 1, 4, 4, 1, 4, 4, 6, 4, 9, 6, 6, 6, 1, 4, 6, 6, 4, 4, 4, 4, 6, 4, 6, 4, 4, 4, 4, 6, 4, 4, 4, 4, 6, 9, 4, 4, 4, 6, 6, 6, 1, 6, 6, 9, 9, 4, 4, 4, 4, 4, 4, 4, 4, 4, 4, 4, 4, 4, 4, 4, 4, 4, 6, 6, 4, 1, 4, 4, 4, 3, 4, 6, 4, 4, 4, 4, 1, 9, 4, 4, 1, 4, 4, 4, 4, 4, 6, 4, 3, 4, 2, 4, 4, 4, 6, 4, 4, 4, 9, 4, 2, 3, 4, 4, 4, 4, 1, 4, 2, 6, 4, 4, 4, 9, 6, 6, 4, 4, 9, 1, 4, 6, 9, 1, 4, 6, 4, 4, 9, 6, 4, 4, 4, 6, 6, 9, 6, 4, 1, 4, 4, 4, 4, 4, 4, 3, 6, 6, 6, 1, 1, 4, 4, 6, 6, 4, 4, 9, 4, 6, 4, 4, 4, 4, 4, 4, 6, 4, 9, 6, 4, 4, 4, 6, 6, 6, 4, 4, 4, 4, 4, 9, 4, 4, 4, 6, 1, 6, 4, 4, 4, 1, 4, 4, 4, 9, 4, 6, 4, 6, 4, 4, 4, 4, 4, 6, 6, 4, 4, 4, 4, 6, 6, 1, 4, 6, 4, 4, 6, 4, 4, 4, 4, 4, 4, 4, 4, 4, 4, 4, 1, 9, 4, 4, 4, 4, 1, 3, 4, 4, 4, 4, 4, 4, 4, 4, 4, 4, 4, 6, 6, 6, 4, 4, 4, 4, 4, 4, 4, 4, 4, 4, 4, 6, 6, 4, 1, 4, 4, 4, 4, 4, 3, 4, 4, 4, 4, 4, 4, 3, 4, 4, 4, 6, 4, 4, 6, 1, 4, 6, 6, 6, 4, 6, 4, 2, 0, 4, 6, 4, 4, 6, 4, 4, 6, 4, 4, 6, 6, 9, 2, 4, 4, 4, 3, 6, 4, 4, 6, 6, 4, 6, 4, 4, 4, 4, 6, 6, 4, 6, 4, 4, 1, 9, 4, 9, 4, 6, 3, 6, 1, 4, 6, 4, 4, 4, 6, 4, 6, 6, 3, 4, 6, 4, 9, 4, 4, 4, 4, 4, 6, 6, 4, 4, 4, 4, 4, 4, 4, 4, 4, 4, 4, 6, 6, 4, 6, 4, 4, 6, 4, 4, 4, 6, 4, 4, 4, 4, 3, 4, 4, 4, 9, 6, 4, 4, 4, 6, 4, 4, 4, 4, 3, 6, 4, 6, 4, 4, 4, 4, 4, 6, 4, 6, 9, 4, 4, 4, 2, 1, 6, 6, 4, 4, 4, 4, 4, 4, 4, 4, 1, 4, 4, 6, 4, 4, 6, 4, 6, 2, 4, 4, 4, 9, 1, 4, 4, 4, 4, 4, 4, 4, 6, 1, 9, 4, 4, 4, 4, 4, 4, 4, 4, 6, 4, 3, 6, 6, 4, 9, 6, 4, 4, 6, 4, 4, 6, 4, 1, 4, 4, 4, 6, 4, 4, 6, 6, 6, 4, 6, 4, 4, 4, 3, 4, 6, 4, 4, 4, 4, 4, 4, 4, 6, 4, 6, 4, 4, 4, 4, 6, 4, 4, 4, 3, 4, 4, 4, 6, 6, 4, 6, 4, 6, 6, 1, 1, 6, 4, 6, 6, 1, 4, 1, 6, 4, 4, 4, 4, 6, 6, 4, 4, 6, 6, 4, 6, 6, 4, 4, 1, 6, 4, 6, 2, 4, 4, 4, 4, 4, 6, 6, 1, 3, 4, 1, 4, 6, 6, 1, 4, 4, 4, 4, 4, 4, 4, 6, 6, 9, 4, 6, 4, 4, 4, 4, 4, 4, 6, 4, 4, 4, 6, 4, 4, 4, 4, 4, 4, 6, 4, 4, 4, 4, 4, 6, 4, 4, 4, 4, 4, 4, 4, 4, 4, 4, 3, 1, 6, 4, 4, 6, 4, 4, 3, 4, 4, 6, 4, 4, 6, 4, 4, 3, 4, 1, 4, 6, 4, 4, 4, 4, 4, 4, 4, 4, 4, 3, 6, 4, 6, 1, 1, 4, 6, 4, 4, 3, 4, 4, 6, 4, 4, 4, 1, 6, 4, 4, 6, 4, 6, 4, 4, 4, 4, 4, 6, 4, 6, 4, 6, 4, 4, 1, 4, 4, 4, 6, 3, 4, 4, 4, 6, 4, 6, 6, 4, 6, 4, 4, 6, 4, 4, 4, 4, 4, 4, 4, 4, 4, 4, 4, 6, 6, 4, 0, 4, 4, 9, 6, 3, 6, 4, 4, 4, 1, 4, 1, 4, 1, 6, 6, 4, 6, 4, 1, 4, 4, 6, 4, 4, 6, 4, 4, 4, 4, 1, 6, 4, 6, 4, 9, 1, 4, 4, 4, 4, 6, 4, 4, 4, 6, 4, 4, 4, 4, 1, 9, 4, 1, 6, 1, 4, 4, 6, 9, 6, 4, 6, 4, 9, 6, 4, 6, 9, 4, 6, 4, 3, 4, 4, 1, 4, 6, 4, 6, 4, 4, 1, 6, 4, 4, 6, 4, 4, 1, 4, 4, 6, 4, 4, 6, 9, 4, 4, 4, 4, 6, 9, 4, 4, 4, 4, 4, 6, 4, 4, 4, 4, 4, 4, 4, 6, 4, 4, 4, 4, 4, 6, 4, 4, 4, 6, 6, 4, 4, 4, 6, 4, 9, 4, 4, 4, 4, 4, 4, 4, 6, 4, 4, 4, 6, 4, 6, 4, 4, 4, 3, 4, 4, 6, 4, 4, 4, 6, 1, 4, 1, 4, 6, 4, 6, 4, 3, 4, 6, 9, 4, 4, 1, 6, 3, 4, 4, 4, 4, 4, 4, 6, 6, 4, 6, 4, 6, 9, 4, 4, 6, 4, 4, 4, 4, 4, 6, 4, 6, 6, 6, 4, 6, 1, 4, 4, 4, 6, 4, 4, 4, 4, 6, 4, 6, 3, 4, 4, 4, 4, 4, 4, 1, 4, 6, 6, 6, 1, 4, 3, 4, 4, 6, 4, 6, 6, 4, 4, 4, 4, 6, 4, 6, 6, 4, 1, 1, 6, 4, 6, 4, 3, 1, 4, 4, 6, 4, 4, 4, 4, 4, 4, 4, 4, 4, 4, 4, 4, 4, 4, 3, 4, 9, 6, 4, 4, 1, 4, 4, 4, 6, 4, 4, 4, 6, 4, 4, 4, 6, 4, 6, 6, 6, 4, 6, 4, 4, 2, 4, 4, 4, 4, 9, 4, 6, 4, 4, 6, 6, 6, 4, 1, 6, 4, 4, 6, 4, 4, 4, 6, 4, 6, 4, 4, 6, 6, 9, 4, 4, 4, 4, 6, 1, 4, 4, 4, 4, 2, 4, 6, 6, 4, 6, 4, 4, 4, 4, 1, 4, 6, 1, 4, 4, 4, 2, 4, 1, 4, 4, 1, 4, 9, 6, 6, 4, 4, 4, 4, 4, 9, 4, 4, 6, 4, 4, 4, 6, 4, 4, 4, 6, 4, 6, 6, 4, 2, 6, 6, 6, 4, 1, 4, 1, 4, 6, 4, 1, 1, 4, 4, 4, 4, 4, 4, 4, 4, 4, 6, 6, 4, 4, 6, 4, 6, 4, 6, 6, 1, 4, 9, 4, 1, 4, 4, 4, 6, 4, 6, 4, 6, 4, 6, 6, 4, 4, 1, 4, 4, 6, 6, 3, 6, 6, 4, 1, 4, 9, 4, 1, 6, 4, 4, 4, 4, 6, 4, 4, 4, 6, 9, 4, 6, 4, 4, 4, 6, 9, 6, 4, 4, 6, 4, 6, 4, 4, 4, 9, 4, 6, 4, 4, 4, 4, 4, 4, 6, 9, 3, 6, 4, 4, 4, 4, 4, 4, 4, 6, 4, 4, 3, 4, 4, 4, 3, 4, 6, 4, 4, 4, 4, 4, 6, 3, 4, 4, 4, 6, 6, 4, 4, 4, 4, 4, 4, 6, 4, 9, 4, 9, 4, 6, 4, 4, 1, 4, 3, 9, 6, 9, 4, 4, 4, 6, 1, 4, 4, 9, 4, 4, 4, 6, 4, 4, 4, 4, 6, 4, 4, 4, 4, 4, 4, 4, 6, 1, 6, 4, 9, 1, 6, 4, 4, 4, 4, 4, 1, 6, 9, 4, 6, 6, 6, 6, 4, 4, 4, 4, 0, 6, 6, 6, 4, 6, 6, 4, 6, 6, 4, 9, 4, 1, 6, 6, 4, 4, 4, 4, 1, 4, 4, 4, 4, 6, 4, 6, 4, 1, 4, 4, 4, 4, 1, 4, 2, 6, 6, 6, 4, 4, 4, 4, 4, 9, 6, 9, 6, 4, 3, 9, 4, 4, 6, 4, 1, 4, 4, 6, 6, 6, 4, 4, 6, 1, 4, 1, 4, 6, 4, 4, 6, 1, 4, 4, 4, 4, 4, 4, 6, 6, 4, 4, 4, 4, 4, 4, 4, 6, 4, 6, 1, 4, 4, 6, 6, 4, 4, 4, 2, 4, 6, 4, 4, 3, 4, 4, 6, 6, 4, 4, 4, 4, 4, 1, 4, 4, 4, 6, 4, 4, 4, 4, 4, 4, 4, 6, 4, 6, 1, 4, 1, 4, 4, 4, 4, 4, 4, 4, 1, 4, 4, 4, 6, 6, 4, 4, 6, 4, 6, 4, 6, 6, 9, 4, 9, 9, 4, 4, 4, 9, 4, 6, 1, 4, 1, 6, 4, 4, 4, 4, 4, 4, 4, 4, 9, 4, 4, 4, 4, 4, 6, 1, 4, 9, 4, 4, 6, 4, 1, 9, 4, 4, 9, 4, 4, 6, 4, 6, 4, 4, 4, 2, 4, 6, 4, 9, 4, 4, 4, 3, 4, 4, 6, 6, 1, 4, 4, 4, 4, 4, 4, 4, 4, 4, 4, 4, 4, 4, 6, 6, 4, 9, 3, 4, 4, 4, 4, 9, 4, 6, 4, 4, 4, 4, 4, 2, 4, 6, 6, 4, 4, 4, 4, 4, 4, 6, 4, 1, 4, 4, 4, 6, 4, 1, 4, 4, 4, 6, 4, 6, 6, 4, 4, 6, 4, 6, 6, 4, 4, 6, 0, 4, 9, 4, 4, 4, 6, 9, 6, 6, 4, 4, 4, 4, 6, 4, 4, 1, 4, 6, 6, 4, 6, 4, 4, 9, 1, 4, 4, 9, 4, 6, 6, 2, 6, 4, 6, 4, 4, 4, 6, 4, 4, 4, 9, 4, 6, 6, 6, 4, 6, 4, 4, 4, 1, 2, 6, 4, 6, 6, 6, 1, 4, 4, 4, 3, 3, 4, 4, 4, 3, 4, 6, 1, 4, 1, 4, 6, 2, 4, 6, 4, 6, 4, 6, 6, 6, 6, 6, 1, 4, 9, 4, 4, 4, 4, 4, 6, 4, 4, 4, 4, 4, 4, 4, 4, 4, 4, 6, 4, 6, 4, 6, 2, 4, 6, 4, 4, 4, 4, 4, 6, 6, 4, 1, 1, 4, 4, 4, 4, 4, 9, 1, 4, 4, 4, 4, 4, 6, 6, 4, 3, 6, 4, 9, 6, 4, 6, 6, 2, 4, 1, 4, 2, 1, 4, 6, 4, 4, 1, 4, 4, 9, 6, 4, 4, 4, 4, 4, 4, 6, 4, 4, 4, 1, 4, 4, 9, 4, 4, 4, 4, 6, 6, 6, 4, 4, 1, 6, 6, 4, 9, 4, 2, 4, 6, 6, 4, 4, 4, 2, 4, 4, 4, 6, 4, 4, 4, 6, 4, 6, 2, 6, 1, 4, 6, 1, 6, 1, 3, 2, 6, 4, 1, 4, 6, 6, 4, 6, 4, 4, 4, 4, 1, 4, 4, 4, 1, 6, 6, 6, 6, 4, 1, 6, 4, 4, 4, 6, 4, 4, 4, 6, 6, 6, 2, 4, 4, 6, 4, 4, 4, 4, 6, 6, 4, 6, 6, 6, 4, 6, 6, 4, 4, 4, 4, 6, 4, 4, 4, 4, 4, 4, 1, 6, 6, 4, 4, 4, 4, 4, 4, 2, 4, 6, 4, 4, 4, 4, 6, 4, 4, 4, 4, 4, 4, 6, 4, 4, 4, 6, 1, 6, 4, 4, 4, 6, 4, 4, 4, 4, 4, 6, 4, 6, 4, 4, 4, 4, 4, 4, 4, 4, 4, 4, 4, 4, 6, 4, 6, 4, 4, 4, 4, 4, 4, 6, 4, 6, 4, 4, 4, 4, 4, 4, 4, 4, 4, 4, 4, 4, 6, 4, 2, 4, 4, 4, 4, 6, 4, 6, 6, 4, 4, 4, 4, 6, 4, 6, 6, 1, 4, 4, 4, 6, 4, 4, 6, 4, 4, 4, 4, 4, 4, 9, 6, 4, 4, 4, 4, 1, 4, 4, 6, 4, 6, 6, 6, 4, 4, 1, 6, 4, 4, 6, 6, 4, 4, 6, 4, 4, 4, 6, 1, 4, 6, 4, 6, 4, 4, 4, 4, 6, 3, 1, 6, 4, 4, 4, 4, 4, 4, 4, 4, 1, 4, 4, 4, 4, 6, 4, 6, 6, 4, 6, 4, 6, 6, 4, 4, 4, 6, 6, 4, 4, 4, 4, 4, 6, 4, 6, 4, 4, 6, 6, 6, 4, 4, 4, 4, 4, 4, 6, 4, 6, 4, 4, 4, 4, 4, 6, 4, 6, 4, 6, 4, 4, 6, 4, 4, 4, 4, 4, 4, 4, 4, 6, 6, 4, 4, 9, 6, 9, 6, 4, 4, 4, 6, 4, 4, 1, 4, 4, 6, 4, 6, 6, 6, 4, 4, 3, 4, 9, 4, 4, 6, 4, 6, 9, 9, 4, 4, 6, 4, 6, 1, 1, 4, 4, 4, 4, 4, 6, 4, 4, 4, 4, 6, 6, 4, 4, 4, 6, 4, 4, 6, 3, 6, 4, 6, 4, 4, 4, 1, 4, 4, 9, 4, 6, 4, 4, 6, 4, 1, 9, 4, 4, 4, 9, 4, 6, 6, 6, 6, 6, 1, 6, 6, 4, 4, 4, 1, 4, 4, 4, 6, 4, 4, 4, 4, 6, 4, 6, 6, 4, 4, 6, 6, 4, 4, 6, 4, 4, 6, 4, 6, 9, 4, 4, 6, 4, 4, 4, 4, 1, 6, 4, 6, 4, 4, 4, 4, 6, 4, 4, 6, 4, 3, 4, 4, 4, 4, 4, 4, 4, 6, 4, 6, 4, 4, 4, 4, 4, 4, 4, 6, 6, 4, 4, 9, 4, 6, 9, 4, 4, 6, 4, 4, 4, 4, 4, 4, 6, 6, 6, 4, 4, 4, 6, 4, 4, 6, 4, 6, 4, 4, 4, 4, 4, 4, 6, 4, 6, 4, 6, 4, 4, 4, 4, 6, 9, 4, 4, 4, 4, 4, 9, 4, 4, 4, 6, 4, 4, 4, 4, 6, 6, 4, 6, 6, 6, 4, 1, 4, 6, 4, 4, 4, 4, 4, 4, 4, 3, 4, 4, 9, 4, 1, 6, 4, 4, 4, 4, 1, 4, 1, 4, 4, 4, 1, 4, 4, 4, 9, 6, 9, 6, 1, 6, 6, 4, 4, 4, 6, 4, 6, 4, 4, 4, 1, 6, 4, 4, 6, 1, 6, 4, 4, 4, 4, 4, 3, 9, 6, 4, 4, 4, 6, 6, 4, 4, 4, 4, 4, 6, 4, 6, 4, 1, 4, 9, 1, 6, 4, 4, 4, 3, 6, 4, 6, 9, 3, 6, 6, 6, 4, 6, 4, 6, 6, 4, 4, 4, 1, 4, 6, 6, 6, 6, 6, 4, 4, 1, 3, 6, 4, 4, 4, 4, 6, 4, 4, 4, 3, 4, 6, 4, 6, 4, 6, 1, 6, 1, 4, 4, 6, 4, 4, 6, 6, 4, 4, 1, 4, 4, 1, 1, 4, 4, 4, 4, 4, 4, 4, 4, 6, 6, 4, 4, 4, 4, 4, 4, 2, 4, 6, 4, 4, 4, 6, 6, 4, 6, 4, 4, 6, 4, 4, 6, 6, 4, 1, 4, 2, 2, 4, 6, 2, 6, 6, 4, 1, 1, 4, 4, 6, 4, 4, 6, 4, 6, 4, 4, 4, 9, 1, 4, 1, 4, 4, 9, 4, 4, 4, 6, 9, 6, 4, 9, 4, 4, 6, 4, 4, 4, 4, 6, 4, 9, 4, 4, 3, 4, 3, 4, 4, 4, 6, 9, 4, 4, 4, 1, 4, 4, 4, 4, 9, 6, 1, 4, 4, 4, 2, 6, 4, 2, 4, 4, 1, 4, 4, 4, 4, 4, 6, 4, 6, 4, 4, 4, 3, 6, 6, 4, 4, 3, 4, 4, 4, 4, 6, 4, 4, 6, 6, 1, 4, 4, 4, 4, 6, 4, 4, 4, 6, 4, 6, 4, 4, 4, 4, 4, 4, 6, 4, 4, 4, 6, 9, 6, 9, 6, 4, 9, 4, 4, 4, 4, 9, 6, 4, 1, 4, 6, 9, 4, 4, 3, 6, 1, 6, 4, 4, 1, 4, 4, 4, 4, 4, 1, 6, 4, 4, 4, 4, 4, 4, 6, 4, 4, 4, 4, 6, 6, 4, 4, 9, 4, 1, 4, 6, 4, 4, 4, 6, 4, 9, 4, 6, 4, 1, 6, 6, 6, 6, 6, 6, 6, 4, 4, 9, 6, 6, 4, 4, 4, 4, 6, 1, 4, 4, 1, 4, 4, 4, 4, 4, 4, 9, 4, 4, 4, 4, 4, 6, 6, 4, 4, 4, 6, 6, 6, 4, 4, 6, 4, 1, 6, 4, 0, 4, 2, 4, 4, 6, 6, 4, 6, 4, 4, 4, 9, 4, 4, 6, 1, 4, 4, 4, 4, 4, 4, 4, 9, 4, 4, 3, 4, 4, 4, 4, 4, 4, 9, 4, 4, 4, 4, 4, 1, 4, 4, 4, 1, 4, 4, 3, 4, 9, 4, 9, 4, 4, 3, 4, 4, 0, 4, 9, 4, 4, 4, 4, 4, 4, 4, 4, 9, 1, 4, 1, 9, 4, 4, 4, 4, 4, 4, 4, 4, 6, 3, 4, 9, 4, 4, 6, 3, 4, 4, 4, 6, 4, 4, 4, 9, 4, 4, 4, 4, 4, 4, 4, 4, 3, 4, 4, 4, 4, 1, 4, 4, 4, 4, 9, 6, 9, 4, 4, 4, 4, 1, 4, 4, 4, 4, 6, 4, 9, 9, 1, 1, 1, 4, 4, 4, 4, 4, 4, 9, 4, 4, 3, 4, 4, 4, 4, 6, 6, 4, 4, 4, 4, 6, 4, 6, 6, 6, 4, 4, 4, 1, 4, 6, 4, 4, 9, 6, 4, 4, 4, 9, 4, 6, 4, 4, 6, 1, 4, 4, 6, 4, 6, 4, 4, 4, 4, 4, 4, 9, 4, 6, 4, 6, 4, 4, 4, 4, 6, 4, 4, 4, 4, 4, 4, 4, 4, 4, 4, 4, 1, 4, 1, 4, 4, 4, 4, 4, 4, 4, 4, 4, 6, 4, 6, 6, 6, 4, 6, 4, 4, 6, 4, 4, 6, 4, 3, 9, 4, 9, 6, 1, 4, 6, 4, 4, 6, 4, 4, 4, 4, 9, 6, 4, 6, 4, 4, 4, 6, 6, 1, 4, 4, 2, 1, 4, 4, 6, 4, 4, 6, 4, 6, 4, 4, 4, 4, 4, 4, 4, 1, 4, 6, 4, 4, 4, 4, 6, 4, 4, 6, 4, 3, 6, 4, 6, 4, 6, 6, 4, 6, 4, 9, 4, 4, 4, 3, 6, 4, 4, 4, 0, 3, 6, 1, 4, 6, 4, 4, 4, 4, 6, 4, 4, 4, 4, 4, 9, 4, 6, 2, 4, 1, 6, 6, 4, 9, 4, 6, 6, 4, 1, 4, 6, 4, 4, 6, 4, 6, 4, 4, 4, 4, 4, 6, 6, 4, 4, 3, 6, 4, 6, 4, 9, 4, 4, 4, 4, 9, 4, 4, 6, 6, 6, 6, 3, 1, 3, 4, 6, 4, 4, 4, 1, 4, 6, 6, 4, 4, 4, 4, 4, 4, 4, 4, 4, 4, 4, 6, 4, 4, 6, 4, 6, 6, 4, 4, 4, 4, 4, 4, 6, 6, 6, 9, 4, 4, 1, 2, 1, 4, 4, 6, 3, 4, 4, 4, 4, 6, 6, 4, 4, 4, 4, 1, 1, 4, 1, 4, 4, 4, 4, 4, 4, 6, 4, 4, 4, 4, 4, 4, 6, 4, 4, 6, 6, 4, 4, 4, 4, 4, 4, 6, 4, 2, 2, 4, 1, 6, 6, 4, 4, 4, 4, 4, 1, 4, 4, 4, 6, 6, 6, 6, 4, 6, 4, 1, 6, 6, 4, 6, 0, 4, 4, 4, 3, 4, 6, 1, 6, 6, 6, 6, 4, 4, 4, 6, 4, 6, 4, 4, 4, 4, 4, 4, 4, 4, 4, 6, 4, 6, 6, 6, 4, 4, 6, 1, 4, 6, 6, 6, 4, 6, 9, 4, 4, 6, 6, 4, 4, 6, 1, 4, 6, 4, 6, 6, 6, 4, 4, 6, 1, 4, 6, 4, 4, 9, 4, 4, 9, 4, 4, 6, 6, 9, 6, 4, 1, 4, 9, 4, 4, 6, 4, 4, 6, 4, 4, 6, 6, 9, 6, 4, 4, 4, 4, 6, 1, 4, 4, 6, 6, 4, 6, 6, 4, 0, 1, 6, 4, 6, 4, 2, 9, 6, 4, 4, 4, 2, 6, 6, 6, 6, 4, 4, 4, 4, 4, 4, 4, 4, 6, 4, 6, 1, 4, 4, 4, 6, 4, 1, 4, 4, 4, 6, 4, 4, 9, 4, 4, 4, 4, 4, 6, 1, 6, 6, 4, 4, 4, 4, 6, 4, 4, 4, 4, 4, 4, 4, 6, 4, 4, 4, 4, 1, 4, 3, 4, 4, 4, 4, 4, 6, 6, 6, 4, 4, 4, 6, 1, 4, 6, 4, 6, 4, 4, 6, 4, 1, 4, 4, 4, 4, 4, 9, 4, 4, 6, 6, 4, 1, 6, 4, 9, 4, 6, 6, 3, 4, 1, 1, 4, 6, 4, 4, 3, 4, 6, 4, 6, 4, 4, 6, 4, 4, 6, 4, 6, 4, 6, 4, 4, 6, 4, 4, 6, 6, 4, 6, 4, 6, 4, 6, 6, 6, 6, 4, 6, 6, 4, 6, 4, 4, 6, 6, 6, 6, 4, 4, 6, 4, 6, 3, 4, 4, 4, 4, 6, 4, 4, 4, 6, 4, 4, 6, 1, 4, 4, 4, 6, 6, 4, 4, 4, 4, 6, 4, 6, 4, 4, 6, 6, 4, 4, 6, 6, 4, 6, 4, 4, 3, 6, 4, 4, 4, 6, 4, 4, 4, 4, 4, 4, 4, 9, 9, 4, 6, 4, 4, 4, 4, 6, 6, 6, 4, 6, 4, 6, 6, 4, 4, 1, 4, 6, 4, 4, 4, 4, 6, 4, 4, 6, 6, 4, 4, 6, 4, 4, 6, 2, 4, 6, 6, 6, 6, 6, 6, 4, 4, 4, 4, 4, 4, 6, 4, 6, 6, 4, 4, 4, 4, 4, 6, 4, 6, 4, 4, 6, 6, 6, 6, 6, 4, 4, 4, 4, 4, 4, 4, 0, 6, 4, 4, 6, 4, 4, 4, 9, 4, 4, 6, 6, 4, 4, 9, 4, 4, 3, 4, 4, 4, 4, 9, 4, 6, 4, 4, 4, 1, 4, 6, 1, 4, 4, 4, 3, 6, 1, 4, 6, 4, 4, 6, 4, 4, 1, 3, 6, 4, 4, 4, 4, 6, 9, 4, 6, 1, 6, 1, 1, 3, 4, 1, 6, 4, 4, 4, 4, 4, 3, 4, 6, 1, 6, 4, 1, 9, 4, 3, 4, 9, 4, 4, 6, 6, 4, 4, 4, 1, 4, 9, 4, 6, 9, 4, 6, 6, 2, 4, 6, 6, 6, 4, 3, 9, 6, 6, 4, 4, 4, 6, 4, 6, 4, 1, 6, 1, 6, 6, 6, 4, 6, 6, 1, 4, 4, 2, 6, 6, 6, 6, 6, 6, 6, 4, 4, 4, 6, 6, 4, 4, 6, 6, 4, 4, 4, 4, 4, 4, 4, 4, 6, 4, 6, 6, 6, 4, 4, 4, 4, 0, 6, 6, 4, 6, 4, 9, 1, 6, 1, 6, 4, 4, 6, 4, 4, 6, 4, 6, 4, 6, 6, 4, 4, 4, 4, 4, 9, 4, 4, 4, 4, 6, 4, 6, 4, 4, 4, 4, 9, 6, 1, 6, 4, 6, 4, 6, 6, 4, 4, 4, 4, 6, 6, 4, 4, 4, 4, 4, 4, 1, 6, 9, 6, 4, 7, 4, 9, 6, 4, 6, 1, 6, 6, 4, 6, 6, 4, 6, 4, 4, 4, 6, 4, 4, 9, 4, 4, 6, 4, 4, 4, 4, 6, 4, 4, 6, 4, 6, 4, 4, 6, 4, 6, 4, 4, 6, 4, 6, 4, 4, 6, 4, 6, 4, 4, 6, 4, 4, 6, 1, 6, 6, 4, 4, 6, 4, 4, 6, 4, 6, 6, 6, 6, 6, 4, 4, 6, 4, 6, 6, 4, 4, 6, 4, 6, 6, 4, 6, 4, 6, 4, 4, 6, 4, 6, 4, 4, 6, 4, 4, 6, 6, 4, 4, 9, 6, 6, 6, 9, 6, 4, 4, 4, 4, 6, 2, 4, 6, 6, 4, 4, 6, 4, 6, 4, 4, 4, 4, 6, 4, 4, 4, 6, 4, 4, 6, 9, 1, 4, 4, 4, 4, 4, 9, 4, 6, 4, 4, 4, 6, 4, 4, 6, 4, 4, 4, 6, 4, 1, 1, 9, 4, 6, 4, 4, 4, 6, 4, 1, 6, 4, 4, 4, 6, 4, 6, 0, 4, 9, 4, 4, 6, 6, 6, 9, 6, 6, 4, 4, 6, 6, 9, 6, 2, 6, 4, 6, 6, 4, 4, 4, 6, 4, 6, 4, 4, 6, 1, 4, 4, 4, 4, 4, 4, 4, 4, 4, 4, 4, 6, 4, 6, 4, 4, 4, 6, 4, 4, 4, 4, 6, 4, 9, 9, 4, 4, 6, 6, 9, 4, 6, 4, 4, 4, 1, 4, 4, 6, 6, 4, 4, 4, 4, 6, 6, 4, 4, 4, 6, 6, 4, 4, 6, 4, 6, 4, 4, 4, 4, 9, 4, 6, 6, 6, 4, 6, 6, 4, 4, 9, 4, 4, 4, 4, 6, 4, 1, 6, 6, 4, 9, 6, 1, 6, 4, 6, 4, 6, 4, 6, 4, 6, 4, 4, 6, 1, 6, 6, 4, 4, 4, 6, 4, 4, 6, 4, 6, 6, 4, 4, 4, 4, 6, 4, 4, 6, 1, 4, 4, 6, 4, 4, 4, 4, 4, 6, 4, 4, 4, 4, 6, 4, 1, 6, 6, 6, 6, 4, 4, 6, 4, 4, 4, 6, 6, 6, 4, 6, 6, 4, 6, 4, 4, 9, 4, 4, 4, 4, 1, 4, 4, 6, 6, 4, 4, 4, 6, 4, 1, 4, 4, 1, 9, 6, 4, 4, 4, 4, 6, 2, 4, 4, 6, 4, 4, 4, 4, 4, 4, 4, 6, 6, 4, 6, 4, 1, 6, 6, 6, 6, 6, 6, 4, 4, 4, 9, 4, 4, 4, 6, 4, 0, 6, 4, 6, 6, 4, 4, 4, 4, 4, 4, 6, 6, 4, 4, 4, 4, 4, 4, 1, 4, 4, 6, 6, 6, 4, 2, 6, 4, 6, 4, 4, 9, 6, 4, 6, 4, 6, 6, 6, 1, 6, 4, 4, 6, 4, 6, 4, 6, 4, 6, 4, 4, 4, 6, 4, 4, 4, 4, 4, 6, 4, 4, 6, 4, 6, 4, 4, 6, 4, 6, 4, 4, 4, 2, 4, 4, 6, 6, 4, 6, 4, 4, 6, 4, 4, 4, 4, 6, 4, 6, 9, 6, 4, 6, 4, 4, 6, 4, 6, 4, 4, 4, 4, 4, 4, 6, 4, 4, 6, 4, 6, 9, 9, 4, 4, 4, 4, 4, 4, 6, 4, 6, 6, 4, 1, 4, 4, 6, 4, 4, 2, 4, 4, 4, 4, 4, 1, 4, 4, 6, 4, 4, 6, 6, 4, 4, 6, 4, 3, 6, 6, 4, 9, 4, 6, 4, 6, 4, 4, 4, 3, 4, 1, 4, 1, 1, 4, 4, 6, 4, 1, 4, 3, 4, 4, 3, 6, 6, 4, 4, 6, 4, 4, 4, 6, 6, 4, 6, 1, 6, 1, 4, 9, 4, 6, 6, 1, 9, 4, 6, 4, 4, 9, 6, 4, 6, 6, 6, 6, 1, 4, 4, 3, 4, 4, 4, 6, 4, 4, 6, 4, 4, 4, 6, 4, 3, 6, 6, 1, 9, 6, 9, 4, 6, 6, 6, 6, 6, 6, 4, 1, 1, 3, 3, 1, 1, 1, 4, 4, 4, 6, 4, 4, 6, 6, 4, 6, 4, 4, 0, 6, 4, 4, 6, 4, 4, 4, 6, 6, 6, 4, 6, 1, 4, 4, 1, 4, 6, 4, 1, 4, 4, 4, 6, 4, 4, 4, 4, 4, 4, 4, 4, 4, 6, 6, 4, 4, 4, 4, 4, 6, 4, 4, 1, 4, 6, 6, 4, 4, 4, 4, 4, 4, 4, 6, 4, 6, 6, 6, 4, 4, 4, 6, 4, 1, 4, 4, 4, 4, 6, 1, 4, 4, 4, 4, 4, 4, 4, 4, 4, 6, 4, 4, 4, 4, 4, 6, 4, 6, 4, 4, 1, 4, 4, 4, 4, 4, 1, 4, 4, 6, 4, 4, 4, 4, 4, 4, 4, 4, 4, 6, 4, 6, 6, 4, 4, 9, 4, 4, 4, 4, 6, 1, 4, 1, 4, 6, 4, 4, 4, 4, 1, 4, 4, 1, 4, 4, 4, 6, 4, 4, 4, 4, 4, 4, 4, 6, 6, 4, 4, 4, 4, 4, 4, 4, 6, 4, 6, 4, 4, 4, 4, 4, 4, 4, 6, 6, 4, 4, 4, 6, 6, 4, 4, 4, 6, 4, 6, 4, 4, 4, 4, 4, 4, 4, 6, 4, 4, 4, 4, 4, 4, 4, 4, 6, 6, 4, 4, 4, 4, 4, 4, 4, 4, 4, 4, 1, 4, 4, 4, 4, 4, 6, 4, 4, 4, 6, 4, 4, 6, 6, 4, 4, 4, 6, 1, 4, 4, 4, 6, 4, 6, 4, 4, 6, 6, 4, 4, 4, 4, 4, 4, 6, 1, 6, 6, 4, 4, 4, 3, 4, 6, 4, 4, 6, 6, 6, 6, 9, 4, 4, 6, 4, 4, 6, 4, 4, 6, 6, 4, 4, 6, 6, 4, 1, 6, 1, 4, 4, 6, 4, 4, 6, 4, 4, 4, 9, 4, 1, 4, 6, 4, 4, 4, 6, 6, 6, 4, 4, 4, 4, 4, 6, 9, 4, 4, 4, 1, 6, 4, 4, 4, 4, 4, 4, 4, 4, 4, 2, 1, 6, 6, 4, 4, 4, 9, 4, 6, 6, 4, 4, 6, 4, 4, 4, 4, 4, 4, 4, 4, 4, 4, 4, 1, 6, 4, 6, 4, 4, 4, 4, 4, 4, 1, 6, 6, 4, 6, 4, 6, 4, 4, 4, 3, 4, 6, 6, 4, 4, 4, 4, 4, 4, 2, 4, 9, 6, 6, 4, 4, 6, 4, 4, 4, 4, 4, 6, 4, 4, 4, 6, 4, 4, 4, 6, 4, 4, 4, 4, 4, 6, 4, 6, 4, 4, 4, 4, 4, 1, 4, 4, 4, 4, 6, 2, 6, 4, 4, 4, 4, 6, 4, 4, 9, 6, 4, 4, 4, 4, 4, 6, 4, 4, 6, 6, 4, 4, 6, 6, 6, 6, 4, 4, 6, 4, 6, 4, 9, 4, 6, 6, 4, 4, 6, 4, 6, 4, 4, 6, 4, 6, 4, 4, 4, 9, 4, 4, 4, 4, 4, 4, 6, 6, 4, 4, 4, 4, 4, 4, 6, 4, 4, 4, 4, 4, 6, 4, 0, 4, 4, 4, 4, 4, 4, 6, 4, 4, 4, 4, 6, 6, 4, 6, 6, 4, 4, 6, 6, 4, 6, 6, 4, 4, 6, 6, 4, 6, 6, 4, 6, 4, 4, 6, 4, 4, 4, 4, 4, 1, 6, 4, 4, 4, 4, 4, 6, 4, 4, 4, 4, 4, 4, 6, 4, 4, 4, 4, 6, 1, 4, 4, 6, 4, 4, 4, 4, 6, 4, 9, 6, 4, 6, 4, 6, 9, 4, 4, 4, 6, 6, 1, 4, 4, 4, 4, 4, 4, 4, 4, 4, 4, 6, 4, 4, 4, 4, 6, 4, 6, 4, 6, 4, 6, 6, 6, 4, 4, 6, 4, 4, 4, 4, 2, 4, 4, 4, 4, 6, 4, 4, 4, 4, 4, 6, 6, 4, 4, 6, 4, 4, 4, 1, 6, 6, 6, 4, 4, 4, 4, 4, 4, 4, 4, 4, 4, 4, 6, 4, 4, 9, 6, 6, 4, 4, 4, 4, 3, 9, 4, 4, 6, 4, 4, 4, 4, 4, 4, 4, 1, 9, 4, 4, 4, 9, 6, 6, 4, 6, 4, 4, 4, 4, 1, 4, 4, 9, 4, 6, 4, 4, 4, 4, 4, 4, 4, 1, 9, 4, 6, 4, 6, 4, 4, 6, 4, 4, 4, 6, 6, 6, 9, 4, 4, 4, 6, 4, 6, 6, 4, 4, 4, 4, 9, 4, 4, 4, 4, 4, 6, 4, 4, 4, 6, 6, 6, 4, 4, 4, 4, 4, 4, 4, 4, 4, 4, 4, 4, 4, 6, 4, 1, 1, 4, 4, 1, 4, 4, 4, 6, 1, 4, 4, 4, 4, 1, 6, 4, 4, 6, 6, 6, 4, 4, 4, 3, 6, 4, 4, 4, 1, 4, 6, 6, 6, 4, 4, 4, 4, 6, 6, 6, 4, 4, 4, 4, 4, 4, 1, 4, 4, 4, 4, 4, 4, 4, 1, 6, 6, 6, 4, 4, 9, 4, 4, 6, 6, 4, 4, 4, 4, 4, 3, 6, 4, 4, 1, 6, 1, 6, 4, 4, 4, 4, 6, 4, 4, 4, 6, 4, 4, 4, 4, 9, 4, 4, 4, 4, 4, 4, 4, 6, 4, 4, 4, 3, 4, 4, 4, 4, 6, 6, 4, 4, 0, 9, 4, 4, 6, 6, 6, 4, 4, 4, 9, 1, 4, 6, 6, 4, 4, 6, 4, 4, 6, 1, 4, 3, 6, 6, 4, 4, 4, 6, 6, 6, 4, 6, 4, 6, 6, 3, 3, 6, 4, 6, 4, 1, 4, 6, 4, 9, 4, 6, 9, 6, 1, 4, 6, 4, 4, 4, 6, 4, 4, 3, 6, 4, 1, 4, 6, 9, 6, 4, 9, 6, 4, 4, 4, 2, 4, 4, 4, 2, 6, 4, 6, 9, 6, 4, 6, 6, 2, 6, 4, 4, 9, 4, 4, 9, 1, 4, 4, 4, 9, 4, 4, 6, 2, 3, 4, 6, 4, 6, 4, 4, 4, 4, 1, 6, 6, 4, 4, 6, 6, 4, 4, 4, 4, 6, 9, 4, 4, 6, 4, 6, 4, 4, 4, 6, 6, 4, 4, 6, 6, 1, 6, 3, 4, 6, 2, 4, 4, 1, 6, 4, 4, 1, 4, 4, 1, 6, 4, 4, 4, 4, 4, 6, 4, 4, 4, 4, 4, 4, 6, 6, 4, 4, 6, 6, 4, 9, 6, 4, 1, 9, 4, 6, 4, 4, 4, 6, 6, 4, 6, 6, 9, 1, 2, 1, 6, 6, 4, 4, 4, 6, 4, 6, 6, 6, 1, 6, 4, 4, 4, 6, 6, 4, 4, 4, 4, 6, 4, 4, 3, 6, 6, 6, 6, 4, 4, 6, 9, 4, 6, 4, 4, 4, 4, 6, 6, 4, 4, 4, 1, 1, 4, 6, 4, 4, 4, 6, 6, 4, 4, 4, 2, 6, 4, 6, 4, 6, 6, 6, 4, 3, 4, 6, 4, 4, 6, 6, 6, 6, 4, 6, 4, 4, 6, 6, 4, 4, 4, 6, 6, 6, 1, 4, 4, 6, 6, 4, 4, 6, 4, 6, 6, 6, 1, 6, 1, 4, 6, 6, 1, 4, 4, 6, 9, 6, 4, 4, 6, 4, 4, 4, 6, 4, 4, 4, 1, 4, 4, 6, 4, 6, 6, 4, 4, 4, 4, 6, 6, 4, 6, 4, 4, 4, 6, 6, 4, 4, 4, 6, 6, 6, 4, 1, 4, 4, 4, 4, 4, 6, 4, 4, 4, 9, 4, 4, 6, 6, 4, 6, 4, 6, 4, 4, 6, 6, 4, 6, 4, 6, 4, 4, 6, 4, 6, 4, 4, 4, 4, 6, 6, 4, 6, 4, 6, 2, 9, 4, 6, 4, 4, 6, 4, 4, 6, 6, 6, 9, 6, 4, 6, 6, 6, 6, 4, 6, 4, 4, 4, 4, 6, 4, 1, 4, 4, 6, 4, 6, 6, 4, 6, 6, 4, 4, 4, 6, 6, 6, 4, 6, 4, 4, 6, 4, 4, 4, 4, 4, 6, 6, 4, 4, 4, 6, 4, 6, 4, 6, 6, 4, 6, 6, 6, 4, 6, 4, 4, 6, 4, 4, 6, 4, 2, 6, 4, 4, 4, 6, 4, 9, 4, 4, 6, 4, 4, 4, 4, 4, 4, 4, 4, 6, 6, 4, 4, 4, 6, 4, 4, 6, 6, 4, 4, 4, 4, 6, 6, 6, 4, 9, 4, 4, 4, 4, 4, 1, 4, 4, 4, 4, 4, 4, 4, 4, 4, 9, 4, 4, 4, 4, 6, 4, 4, 3, 6, 9, 4, 4, 4, 4, 4, 4, 1, 6, 4, 4, 4, 4, 4, 4, 4, 4, 6, 4, 4, 4, 6, 4, 4, 4, 4, 4, 4, 4, 1, 3, 4, 1, 4, 4, 4, 4, 4, 4, 4, 1, 4, 4, 4, 4, 4, 4, 1, 4, 1, 4, 4, 1, 4, 4, 4, 6, 6, 4, 6, 4, 4, 6, 6, 6, 4, 6, 4, 6, 9, 4, 4, 6, 4, 1, 6, 1, 4, 6, 4, 6, 4, 4, 6, 4, 6, 4, 4, 4, 4, 4, 4, 3, 4, 6, 4, 4, 6, 6, 4, 4, 6, 6, 6, 6, 6, 4, 6, 6, 4, 6, 4, 6, 6, 6, 4, 4, 6, 6, 4, 6, 4, 4, 4, 4, 6, 4, 4, 6, 6, 4, 6, 6, 6, 6, 4, 6, 6, 6, 6, 6, 4, 4, 4, 6, 4, 6, 6, 4, 6, 6, 6, 6, 6, 4, 6, 6, 4, 6, 6, 4, 4, 6, 4, 4, 6, 9, 6, 6, 6, 6, 6, 6, 4, 4, 2, 6, 4, 6, 6, 4, 4, 9, 6, 4, 6, 4, 6, 4, 4, 4, 4, 6, 6, 4, 9, 6, 2, 1, 4, 6, 6, 6, 4, 6, 6, 4, 6, 6, 6, 4, 4, 4, 6, 4, 4, 2, 4, 4, 4, 9, 4, 4, 4, 4, 4, 4, 6, 4, 6, 4, 1, 6, 4, 6, 6, 1, 6, 4, 2, 4, 6, 4, 4, 6, 4, 9, 1, 6, 6, 4, 4, 9, 6, 4, 4, 4, 6, 4, 4, 4, 1, 4, 4, 6, 4, 4, 4, 6, 6, 6, 4, 6, 4, 4, 6, 4, 4, 6, 4, 4, 4, 4, 4, 6, 9, 3, 1, 4, 4, 4, 4, 4, 4, 4, 4, 4, 4, 4, 4, 4, 6, 4, 4, 4, 4, 6, 1, 4, 1, 4, 4, 6, 9, 4, 9, 4, 6, 4, 4, 1, 4, 4, 4, 6, 4, 4, 4, 4, 6, 4, 4, 4, 4, 4, 6, 4, 1, 4, 6, 4, 4, 6, 6, 6, 1, 6, 4, 1, 4, 4, 3, 4, 4, 4, 4, 4, 4, 4, 4, 6, 4, 4, 6, 4, 4, 4, 1, 4, 4, 1, 4, 6, 4, 4, 6, 4, 6, 4, 4, 4, 6, 6, 6, 4, 1, 4, 4, 4, 3, 4, 4, 6, 4, 4, 4, 6, 6, 6, 6, 4, 4, 4, 4, 4, 6, 9, 1, 4, 4, 6, 6, 6, 4, 4, 4, 6, 4, 4, 4, 4, 4, 6, 4, 4, 4, 9, 4, 4, 4, 6, 6, 4, 4, 6, 4, 4, 4, 6, 1, 4, 6, 4, 6, 4, 4, 4, 4, 4, 6, 4, 6, 4, 4, 4, 4, 4, 6, 4, 4, 6, 4, 4, 2, 4, 6, 6, 9, 4, 4, 6, 4, 6, 2, 6, 6, 6, 4, 4, 4, 4, 4, 4, 4, 4, 4, 6, 6, 4, 6, 6, 4, 4, 4, 6, 6, 6, 2, 6, 6, 6, 4, 6, 6, 4, 6, 4, 6, 4, 4, 4, 6, 4, 4, 4, 4, 6, 4, 4, 9, 6, 4, 4, 4, 4, 4, 6, 6, 6, 6, 4, 4, 1, 4, 6, 4, 6, 4, 4, 6, 4, 6, 1, 6, 6, 6, 9, 4, 6, 6, 4, 6, 4, 6, 6, 4, 4, 4, 4, 4, 6, 4, 6, 6, 6, 4, 6, 4, 6, 6, 6, 0, 4, 1, 6, 4, 4, 6, 4, 6, 4, 9, 6, 6, 4, 6, 4, 4, 6, 4, 4, 6, 7, 1, 1, 6, 6, 4, 6, 4, 4, 4, 4, 4, 4, 4, 6, 4, 4, 6, 6, 4, 6, 4, 6, 4, 6, 4, 4, 6, 4, 4, 1, 4, 4, 4, 6, 4, 6, 6, 4, 9, 6, 4, 6, 6, 6, 4, 6, 6, 6, 6, 6, 6, 4, 6, 6, 6, 6, 4, 4, 6, 4, 4, 6, 6, 6, 6, 6, 4, 4, 6, 4, 6, 4, 4, 4, 6, 6, 4, 6, 4, 6, 1, 6, 4, 4, 4, 4, 4, 4, 4, 6, 6, 6, 9, 6, 4, 6, 6, 4, 6, 4, 4, 6, 4, 6, 4, 4, 4, 6, 9, 2, 6, 4, 1, 6, 4, 4, 6, 6, 6, 6, 6, 6, 4, 6, 4, 6, 1, 4, 4, 4, 4, 6, 4, 4, 1, 6, 4, 4, 4, 6, 4, 4, 6, 6, 4, 4, 4, 6, 6, 6, 4, 6, 4, 4, 4, 4, 6, 6, 4, 4, 4, 4, 9, 4, 4, 6, 4, 4, 4, 1, 4, 1, 6, 4, 4, 4, 6, 1, 4, 6, 6, 4, 4, 4, 4, 4, 4, 6, 4, 6, 4, 4, 4, 4, 1, 4, 4, 4, 4, 4, 4, 9, 4, 9, 4, 1, 4, 4, 4, 4, 4, 6, 4, 9, 4, 6, 4, 4, 4, 6, 4, 4, 6, 6, 4, 6, 1, 4, 4, 4, 4, 4, 6, 6, 6, 4, 6, 4, 4, 6, 6, 4, 6, 6, 4, 4, 4, 4, 4, 4, 4, 4, 9, 4, 6, 4, 6, 4, 6, 4, 4, 6, 4, 1, 6, 4, 6, 6, 4, 4, 6, 6, 4, 6, 6, 4, 4, 4, 4, 4, 4, 4, 4, 6, 6, 4, 6, 4, 4, 6, 4, 4, 4, 4, 4, 4, 4, 2, 4, 4, 6, 4, 6, 1, 4, 4, 4, 4, 4, 6, 6, 6, 4, 1, 6, 4, 4, 4, 3, 4, 6, 4]\n"
          ]
        }
      ]
    },
    {
      "cell_type": "markdown",
      "source": [
        "Y_test  -->  True labels\n",
        "\n",
        "Y_pred_labels  -->  Predicted Labels"
      ],
      "metadata": {
        "id": "sEElzNG8wx-x"
      }
    },
    {
      "cell_type": "markdown",
      "source": [
        "Confusin Matrix"
      ],
      "metadata": {
        "id": "hhA0iCyIw8xj"
      }
    },
    {
      "cell_type": "code",
      "source": [
        "conf_mat = confusion_matrix(Y_test, Y_pred_labels)"
      ],
      "metadata": {
        "id": "KtAB880UwiRS"
      },
      "execution_count": 37,
      "outputs": []
    },
    {
      "cell_type": "code",
      "source": [
        "print(conf_mat)"
      ],
      "metadata": {
        "colab": {
          "base_uri": "https://localhost:8080/"
        },
        "id": "BFIDGMJFxM6r",
        "outputId": "358a9b21-b0b0-47b1-e749-61729deabcdf"
      },
      "execution_count": 38,
      "outputs": [
        {
          "output_type": "stream",
          "name": "stdout",
          "text": [
            "tf.Tensor(\n",
            "[[   5   76    0   20  478    0  319    1    0   81]\n",
            " [   1   29   13    2 1010    0   79    0    0    1]\n",
            " [   5   70   19    6  794    0  119    0    0   19]\n",
            " [   2  230   32   90  239    0  285    0    0  132]\n",
            " [   2   37   24   10  636    0  270    0    0    3]\n",
            " [   6   98   10   33  314    0  290    1    0  140]\n",
            " [   0   23    0    3  707    0  208    0    0   17]\n",
            " [   0    7    6    1  822    0  189    0    0    3]\n",
            " [   3   70    9   33  402    0  436    0    0   21]\n",
            " [   0   15    3   11  521    0  456    0    0    3]], shape=(10, 10), dtype=int32)\n"
          ]
        }
      ]
    },
    {
      "cell_type": "code",
      "source": [
        "plt.figure(figsize=(15,7))\n",
        "sns.heatmap(conf_mat, annot=True, fmt='d', cmap='Blues')\n",
        "plt.ylabel('True Labels')\n",
        "plt.xlabel('Predicted Labels')"
      ],
      "metadata": {
        "colab": {
          "base_uri": "https://localhost:8080/",
          "height": 494
        },
        "id": "1lygLZQwxO2G",
        "outputId": "e0ac2361-3067-4852-ec02-ea7784a68f2e"
      },
      "execution_count": 39,
      "outputs": [
        {
          "output_type": "execute_result",
          "data": {
            "text/plain": [
              "Text(0.5, 47.7222222222222, 'Predicted Labels')"
            ]
          },
          "metadata": {},
          "execution_count": 39
        },
        {
          "output_type": "display_data",
          "data": {
            "text/plain": [
              "<Figure size 1500x700 with 2 Axes>"
            ],
            "image/png": "[encoded data removed]"
          },
          "metadata": {}
        }
      ]
    },
    {
      "cell_type": "markdown",
      "source": [
        "Building a Predictive System"
      ],
      "metadata": {
        "id": "KVp9lOgYy2RL"
      }
    },
    {
      "cell_type": "markdown",
      "source": [
        "Prediction image link: https://camo.githubusercontent.com/3d9666a8f0c5658667292b74ca19295827c2b22a0e903db283998ae213e6f6e1/68747470733a2f2f646174616d61646e6573732e6769746875622e696f2f6173736574732f696d616765732f74665f66696c655f666565642f4d4e4953545f64696769742e706e67"
      ],
      "metadata": {
        "id": "yoUv5obR7Qk5"
      }
    },
    {
      "cell_type": "code",
      "source": [
        "input_image_path = '/content/MNIST_digit.png'\n",
        "\n",
        "input_image = cv2.imread(input_image_path)"
      ],
      "metadata": {
        "id": "yjYyexayx4pp"
      },
      "execution_count": 44,
      "outputs": []
    },
    {
      "cell_type": "code",
      "source": [
        "type(input_image)"
      ],
      "metadata": {
        "colab": {
          "base_uri": "https://localhost:8080/"
        },
        "id": "mIqt1kTRzUy-",
        "outputId": "b38e710c-ea53-4864-cf2a-c665b68f3b1a"
      },
      "execution_count": 45,
      "outputs": [
        {
          "output_type": "execute_result",
          "data": {
            "text/plain": [
              "numpy.ndarray"
            ]
          },
          "metadata": {},
          "execution_count": 45
        }
      ]
    },
    {
      "cell_type": "code",
      "source": [
        "print(input_image)"
      ],
      "metadata": {
        "id": "kC1P--e_zXck",
        "outputId": "82a68035-a680-43c5-e19d-d1f6fce09465",
        "colab": {
          "base_uri": "https://localhost:8080/"
        }
      },
      "execution_count": 46,
      "outputs": [
        {
          "output_type": "stream",
          "name": "stdout",
          "text": [
            "[[[0 0 0]\n",
            "  [0 0 0]\n",
            "  [0 0 0]\n",
            "  ...\n",
            "  [0 0 0]\n",
            "  [0 0 0]\n",
            "  [0 0 0]]\n",
            "\n",
            " [[0 0 0]\n",
            "  [0 0 0]\n",
            "  [0 0 0]\n",
            "  ...\n",
            "  [0 0 0]\n",
            "  [0 0 0]\n",
            "  [0 0 0]]\n",
            "\n",
            " [[0 0 0]\n",
            "  [0 0 0]\n",
            "  [0 0 0]\n",
            "  ...\n",
            "  [0 0 0]\n",
            "  [0 0 0]\n",
            "  [0 0 0]]\n",
            "\n",
            " ...\n",
            "\n",
            " [[0 0 0]\n",
            "  [0 0 0]\n",
            "  [0 0 0]\n",
            "  ...\n",
            "  [0 0 0]\n",
            "  [0 0 0]\n",
            "  [0 0 0]]\n",
            "\n",
            " [[0 0 0]\n",
            "  [0 0 0]\n",
            "  [0 0 0]\n",
            "  ...\n",
            "  [0 0 0]\n",
            "  [0 0 0]\n",
            "  [0 0 0]]\n",
            "\n",
            " [[0 0 0]\n",
            "  [0 0 0]\n",
            "  [0 0 0]\n",
            "  ...\n",
            "  [0 0 0]\n",
            "  [0 0 0]\n",
            "  [0 0 0]]]\n"
          ]
        }
      ]
    },
    {
      "cell_type": "code",
      "source": [
        "cv2_imshow(input_image)"
      ],
      "metadata": {
        "colab": {
          "base_uri": "https://localhost:8080/",
          "height": 335
        },
        "id": "cwx9uCkGzbGT",
        "outputId": "a0c0fadb-b922-4906-e02a-a1ba6a965077"
      },
      "execution_count": 47,
      "outputs": [
        {
          "output_type": "display_data",
          "data": {
            "text/plain": [
              "<PIL.Image.Image image mode=RGB size=318x318>"
            ],
            "image/png": "[encoded data removed]"
          },
          "metadata": {}
        }
      ]
    },
    {
      "cell_type": "code",
      "source": [
        "input_image.shape"
      ],
      "metadata": {
        "colab": {
          "base_uri": "https://localhost:8080/"
        },
        "id": "78AQcVc-zlOj",
        "outputId": "14237694-7324-460a-a5a3-ff4ffc6187fd"
      },
      "execution_count": 48,
      "outputs": [
        {
          "output_type": "execute_result",
          "data": {
            "text/plain": [
              "(318, 318, 3)"
            ]
          },
          "metadata": {},
          "execution_count": 48
        }
      ]
    },
    {
      "cell_type": "code",
      "source": [
        "grayscale = cv2.cvtColor(input_image, cv2.COLOR_RGB2GRAY)"
      ],
      "metadata": {
        "id": "MXA0J3CyznE2"
      },
      "execution_count": 49,
      "outputs": []
    },
    {
      "cell_type": "code",
      "source": [
        "grayscale.shape"
      ],
      "metadata": {
        "colab": {
          "base_uri": "https://localhost:8080/"
        },
        "id": "ZkW_hJh_0Df6",
        "outputId": "3bb23b19-129a-4b4d-8c07-d7cbb8556662"
      },
      "execution_count": 50,
      "outputs": [
        {
          "output_type": "execute_result",
          "data": {
            "text/plain": [
              "(318, 318)"
            ]
          },
          "metadata": {},
          "execution_count": 50
        }
      ]
    },
    {
      "cell_type": "code",
      "source": [
        "input_image_resize = cv2.resize(grayscale, (28, 28))"
      ],
      "metadata": {
        "id": "hEXu0BmE0Goo"
      },
      "execution_count": 51,
      "outputs": []
    },
    {
      "cell_type": "code",
      "source": [
        "input_image_resize.shape"
      ],
      "metadata": {
        "colab": {
          "base_uri": "https://localhost:8080/"
        },
        "id": "X9VOKvgx0YzU",
        "outputId": "89514b68-1533-4181-e855-ff59a34d177e"
      },
      "execution_count": 52,
      "outputs": [
        {
          "output_type": "execute_result",
          "data": {
            "text/plain": [
              "(28, 28)"
            ]
          },
          "metadata": {},
          "execution_count": 52
        }
      ]
    },
    {
      "cell_type": "code",
      "source": [
        "cv2_imshow(input_image_resize)"
      ],
      "metadata": {
        "colab": {
          "base_uri": "https://localhost:8080/",
          "height": 45
        },
        "id": "4vawW06R0anF",
        "outputId": "6cde5860-07f8-4f27-d96a-fcb5f5c92833"
      },
      "execution_count": 53,
      "outputs": [
        {
          "output_type": "display_data",
          "data": {
            "text/plain": [
              "<PIL.Image.Image image mode=L size=28x28>"
            ],
            "image/png": "[encoded data removed]"
          },
          "metadata": {}
        }
      ]
    },
    {
      "cell_type": "code",
      "source": [
        "input_image_resize = input_image_resize/255"
      ],
      "metadata": {
        "id": "VVQnhHBS0j9T"
      },
      "execution_count": 54,
      "outputs": []
    },
    {
      "cell_type": "code",
      "source": [
        "type(input_image_resize)"
      ],
      "metadata": {
        "colab": {
          "base_uri": "https://localhost:8080/"
        },
        "id": "cj5QRu4N1FVv",
        "outputId": "01832d0c-abc1-4261-8f93-41d59b5cd191"
      },
      "execution_count": 55,
      "outputs": [
        {
          "output_type": "execute_result",
          "data": {
            "text/plain": [
              "numpy.ndarray"
            ]
          },
          "metadata": {},
          "execution_count": 55
        }
      ]
    },
    {
      "cell_type": "code",
      "source": [
        "image_reshaped = np.reshape(input_image_resize, [1,28,28])"
      ],
      "metadata": {
        "id": "kEIClW1L0y6_"
      },
      "execution_count": 56,
      "outputs": []
    },
    {
      "cell_type": "code",
      "source": [
        "input_prediction = model.predict(image_reshaped)\n",
        "print(input_prediction)"
      ],
      "metadata": {
        "colab": {
          "base_uri": "https://localhost:8080/"
        },
        "id": "S7pcNqPT1elf",
        "outputId": "81f3c9fa-d89b-4851-df6b-8468e3d6c646"
      },
      "execution_count": 57,
      "outputs": [
        {
          "output_type": "stream",
          "name": "stdout",
          "text": [
            "1/1 [==============================] - 0s 23ms/step\n",
            "[[0.49009556 0.46285775 0.5120926  0.5145419  0.5341876  0.38283458\n",
            "  0.6466778  0.448118   0.43843815 0.5143381 ]]\n"
          ]
        }
      ]
    },
    {
      "cell_type": "code",
      "source": [
        "input_pred_label = np.argmax(input_prediction)"
      ],
      "metadata": {
        "id": "KiuNa3BC1l9B"
      },
      "execution_count": 58,
      "outputs": []
    },
    {
      "cell_type": "code",
      "source": [
        "print(input_pred_label)"
      ],
      "metadata": {
        "colab": {
          "base_uri": "https://localhost:8080/"
        },
        "id": "qQga0z2z1tZf",
        "outputId": "aa5a9de2-5e27-42a1-abc0-a92f2a81536d"
      },
      "execution_count": 59,
      "outputs": [
        {
          "output_type": "stream",
          "name": "stdout",
          "text": [
            "6\n"
          ]
        }
      ]
    },
    {
      "cell_type": "markdown",
      "source": [
        "**Predictive System**"
      ],
      "metadata": {
        "id": "u5VVQN7f15Bz"
      }
    },
    {
      "cell_type": "code",
      "source": [
        "input_image_path = input('Path of the image to be predicted: ')\n",
        "\n",
        "input_image = cv2.imread(input_image_path)\n",
        "\n",
        "cv2_imshow(input_image)\n",
        "\n",
        "grayscale = cv2.cvtColor(input_image, cv2.COLOR_RGB2GRAY)\n",
        "\n",
        "input_image_resize = cv2.resize(grayscale, (28, 28))\n",
        "\n",
        "input_image_resize = input_image_resize/255\n",
        "\n",
        "image_reshaped = np.reshape(input_image_resize, [1,28,28])\n",
        "\n",
        "input_prediction = model.predict(image_reshaped)\n",
        "\n",
        "input_pred_label = np.argmax(input_prediction)\n",
        "\n",
        "print('The Handwritten Digit is recognised as ', input_pred_label)"
      ],
      "metadata": {
        "colab": {
          "base_uri": "https://localhost:8080/",
          "height": 387
        },
        "id": "vhu3CRQZ1vx0",
        "outputId": "181133c0-0301-4267-bd19-dddbad4f5866"
      },
      "execution_count": 61,
      "outputs": [
        {
          "name": "stdout",
          "output_type": "stream",
          "text": [
            "Path of the image to be predicted: /content/MNIST_digit.png\n"
          ]
        },
        {
          "output_type": "display_data",
          "data": {
            "text/plain": [
              "<PIL.Image.Image image mode=RGB size=318x318>"
            ],
            "image/png": "[encoded data removed]"
          },
          "metadata": {}
        },
        {
          "output_type": "stream",
          "name": "stdout",
          "text": [
            "1/1 [==============================] - 0s 21ms/step\n",
            "The Handwritten Digit is recognised as  6\n"
          ]
        }
      ]
    }
  ]
}